{
 "cells": [
  {
   "cell_type": "code",
   "execution_count": 1,
   "id": "e2574245",
   "metadata": {},
   "outputs": [
    {
     "data": {
      "application/javascript": [
       "(function(root) {\n",
       "  function now() {\n",
       "    return new Date();\n",
       "  }\n",
       "\n",
       "  var force = true;\n",
       "\n",
       "  if (typeof root._bokeh_onload_callbacks === \"undefined\" || force === true) {\n",
       "    root._bokeh_onload_callbacks = [];\n",
       "    root._bokeh_is_loading = undefined;\n",
       "  }\n",
       "\n",
       "  if (typeof (root._bokeh_timeout) === \"undefined\" || force === true) {\n",
       "    root._bokeh_timeout = Date.now() + 5000;\n",
       "    root._bokeh_failed_load = false;\n",
       "  }\n",
       "\n",
       "  function run_callbacks() {\n",
       "    try {\n",
       "      root._bokeh_onload_callbacks.forEach(function(callback) {\n",
       "        if (callback != null)\n",
       "          callback();\n",
       "      });\n",
       "    } finally {\n",
       "      delete root._bokeh_onload_callbacks\n",
       "    }\n",
       "    console.debug(\"Bokeh: all callbacks have finished\");\n",
       "  }\n",
       "\n",
       "  function load_libs(css_urls, js_urls, js_modules, callback) {\n",
       "    if (css_urls == null) css_urls = [];\n",
       "    if (js_urls == null) js_urls = [];\n",
       "    if (js_modules == null) js_modules = [];\n",
       "\n",
       "    root._bokeh_onload_callbacks.push(callback);\n",
       "    if (root._bokeh_is_loading > 0) {\n",
       "      console.debug(\"Bokeh: BokehJS is being loaded, scheduling callback at\", now());\n",
       "      return null;\n",
       "    }\n",
       "    if (js_urls.length === 0 && js_modules.length === 0) {\n",
       "      run_callbacks();\n",
       "      return null;\n",
       "    }\n",
       "    console.debug(\"Bokeh: BokehJS not loaded, scheduling load and callback at\", now());\n",
       "\n",
       "    function on_load() {\n",
       "      root._bokeh_is_loading--;\n",
       "      if (root._bokeh_is_loading === 0) {\n",
       "        console.debug(\"Bokeh: all BokehJS libraries/stylesheets loaded\");\n",
       "        run_callbacks()\n",
       "      }\n",
       "    }\n",
       "\n",
       "    function on_error() {\n",
       "      console.error(\"failed to load \" + url);\n",
       "    }\n",
       "\n",
       "    for (var i = 0; i < css_urls.length; i++) {\n",
       "      var url = css_urls[i];\n",
       "      const element = document.createElement(\"link\");\n",
       "      element.onload = on_load;\n",
       "      element.onerror = on_error;\n",
       "      element.rel = \"stylesheet\";\n",
       "      element.type = \"text/css\";\n",
       "      element.href = url;\n",
       "      console.debug(\"Bokeh: injecting link tag for BokehJS stylesheet: \", url);\n",
       "      document.body.appendChild(element);\n",
       "    }\n",
       "\n",
       "    var skip = [];\n",
       "    if (window.requirejs) {\n",
       "      window.requirejs.config({'packages': {}, 'paths': {'tabulator': 'https://unpkg.com/tabulator-tables@4.9.3/dist/js/tabulator', 'moment': 'https://cdn.jsdelivr.net/npm/luxon/build/global/luxon.min', 'gridstack': 'https://cdn.jsdelivr.net/npm/gridstack@4.2.5/dist/gridstack-h5', 'notyf': 'https://cdn.jsdelivr.net/npm/notyf@3/notyf.min'}, 'shim': {'gridstack': {'exports': 'GridStack'}}});\n",
       "      require([\"tabulator\"], function(Tabulator) {\n",
       "\twindow.Tabulator = Tabulator\n",
       "\ton_load()\n",
       "      })\n",
       "      require([\"moment\"], function(moment) {\n",
       "\twindow.moment = moment\n",
       "\ton_load()\n",
       "      })\n",
       "      require([\"gridstack\"], function(GridStack) {\n",
       "\twindow.GridStack = GridStack\n",
       "\ton_load()\n",
       "      })\n",
       "      require([\"notyf\"], function() {\n",
       "\ton_load()\n",
       "      })\n",
       "      root._bokeh_is_loading = css_urls.length + 4;\n",
       "    } else {\n",
       "      root._bokeh_is_loading = css_urls.length + js_urls.length + js_modules.length;\n",
       "    }    if (((window['Tabulator'] !== undefined) && (!(window['Tabulator'] instanceof HTMLElement))) || window.requirejs) {\n",
       "      var urls = ['https://unpkg.com/tabulator-tables@4.9.3/dist/js/tabulator.js'];\n",
       "      for (var i = 0; i < urls.length; i++) {\n",
       "        skip.push(urls[i])\n",
       "      }\n",
       "    }    if (((window['moment'] !== undefined) && (!(window['moment'] instanceof HTMLElement))) || window.requirejs) {\n",
       "      var urls = ['https://cdn.jsdelivr.net/npm/luxon/build/global/luxon.min.js'];\n",
       "      for (var i = 0; i < urls.length; i++) {\n",
       "        skip.push(urls[i])\n",
       "      }\n",
       "    }    if (((window['GridStack'] !== undefined) && (!(window['GridStack'] instanceof HTMLElement))) || window.requirejs) {\n",
       "      var urls = ['https://cdn.jsdelivr.net/npm/gridstack@4.2.5/dist/gridstack-h5.js'];\n",
       "      for (var i = 0; i < urls.length; i++) {\n",
       "        skip.push(urls[i])\n",
       "      }\n",
       "    }    if (((window['Notyf'] !== undefined) && (!(window['Notyf'] instanceof HTMLElement))) || window.requirejs) {\n",
       "      var urls = ['https://cdn.jsdelivr.net/npm/notyf@3/notyf.min.js'];\n",
       "      for (var i = 0; i < urls.length; i++) {\n",
       "        skip.push(urls[i])\n",
       "      }\n",
       "    }    for (var i = 0; i < js_urls.length; i++) {\n",
       "      var url = js_urls[i];\n",
       "      if (skip.indexOf(url) >= 0) {\n",
       "\tif (!window.requirejs) {\n",
       "\t  on_load();\n",
       "\t}\n",
       "\tcontinue;\n",
       "      }\n",
       "      var element = document.createElement('script');\n",
       "      element.onload = on_load;\n",
       "      element.onerror = on_error;\n",
       "      element.async = false;\n",
       "      element.src = url;\n",
       "      console.debug(\"Bokeh: injecting script tag for BokehJS library: \", url);\n",
       "      document.head.appendChild(element);\n",
       "    }\n",
       "    for (var i = 0; i < js_modules.length; i++) {\n",
       "      var url = js_modules[i];\n",
       "      if (skip.indexOf(url) >= 0) {\n",
       "\tif (!window.requirejs) {\n",
       "\t  on_load();\n",
       "\t}\n",
       "\tcontinue;\n",
       "      }\n",
       "      var element = document.createElement('script');\n",
       "      element.onload = on_load;\n",
       "      element.onerror = on_error;\n",
       "      element.async = false;\n",
       "      element.src = url;\n",
       "      element.type = \"module\";\n",
       "      console.debug(\"Bokeh: injecting script tag for BokehJS library: \", url);\n",
       "      document.head.appendChild(element);\n",
       "    }\n",
       "    if (!js_urls.length && !js_modules.length) {\n",
       "      on_load()\n",
       "    }\n",
       "  };\n",
       "\n",
       "  function inject_raw_css(css) {\n",
       "    const element = document.createElement(\"style\");\n",
       "    element.appendChild(document.createTextNode(css));\n",
       "    document.body.appendChild(element);\n",
       "  }\n",
       "\n",
       "  var js_urls = [\"https://unpkg.com/tabulator-tables@4.9.3/dist/js/tabulator.js\", \"https://cdn.jsdelivr.net/npm/luxon/build/global/luxon.min.js\", \"https://cdn.bokeh.org/bokeh/release/bokeh-2.4.3.min.js\", \"https://cdn.bokeh.org/bokeh/release/bokeh-gl-2.4.3.min.js\", \"https://cdn.bokeh.org/bokeh/release/bokeh-widgets-2.4.3.min.js\", \"https://cdn.bokeh.org/bokeh/release/bokeh-tables-2.4.3.min.js\", \"https://cdn.bokeh.org/bokeh/release/bokeh-mathjax-2.4.3.min.js\", \"https://cdn.jsdelivr.net/npm/notyf@3/notyf.min.js\", \"https://unpkg.com/@holoviz/panel@0.13.1/dist/panel.min.js\"];\n",
       "  var js_modules = [];\n",
       "  var css_urls = [\"https://unpkg.com/tabulator-tables@4.9.3/dist/css/tabulator_simple.min.css\", \"https://cdn.jsdelivr.net/npm/notyf@3/notyf.min.css\", \"https://cdnjs.cloudflare.com/ajax/libs/font-awesome/5.15.1/css/all.min.css\", \"https://unpkg.com/@holoviz/panel@0.13.1/dist/css/alerts.css\", \"https://unpkg.com/@holoviz/panel@0.13.1/dist/css/card.css\", \"https://unpkg.com/@holoviz/panel@0.13.1/dist/css/dataframe.css\", \"https://unpkg.com/@holoviz/panel@0.13.1/dist/css/debugger.css\", \"https://unpkg.com/@holoviz/panel@0.13.1/dist/css/json.css\", \"https://unpkg.com/@holoviz/panel@0.13.1/dist/css/loading.css\", \"https://unpkg.com/@holoviz/panel@0.13.1/dist/css/markdown.css\", \"https://unpkg.com/@holoviz/panel@0.13.1/dist/css/widgets.css\"];\n",
       "  var inline_js = [    function(Bokeh) {\n",
       "      inject_raw_css(\"\\n    .bk.pn-loading.arcs:before {\\n      background-image: url(\\\"data:image/svg+xml;base64,PHN2ZyB4bWxucz0iaHR0cDovL3d3dy53My5vcmcvMjAwMC9zdmciIHhtbG5zOnhsaW5rPSJodHRwOi8vd3d3LnczLm9yZy8xOTk5L3hsaW5rIiBzdHlsZT0ibWFyZ2luOiBhdXRvOyBiYWNrZ3JvdW5kOiBub25lOyBkaXNwbGF5OiBibG9jazsgc2hhcGUtcmVuZGVyaW5nOiBhdXRvOyIgdmlld0JveD0iMCAwIDEwMCAxMDAiIHByZXNlcnZlQXNwZWN0UmF0aW89InhNaWRZTWlkIj4gIDxjaXJjbGUgY3g9IjUwIiBjeT0iNTAiIHI9IjMyIiBzdHJva2Utd2lkdGg9IjgiIHN0cm9rZT0iI2MzYzNjMyIgc3Ryb2tlLWRhc2hhcnJheT0iNTAuMjY1NDgyNDU3NDM2NjkgNTAuMjY1NDgyNDU3NDM2NjkiIGZpbGw9Im5vbmUiIHN0cm9rZS1saW5lY2FwPSJyb3VuZCI+ICAgIDxhbmltYXRlVHJhbnNmb3JtIGF0dHJpYnV0ZU5hbWU9InRyYW5zZm9ybSIgdHlwZT0icm90YXRlIiByZXBlYXRDb3VudD0iaW5kZWZpbml0ZSIgZHVyPSIxcyIga2V5VGltZXM9IjA7MSIgdmFsdWVzPSIwIDUwIDUwOzM2MCA1MCA1MCI+PC9hbmltYXRlVHJhbnNmb3JtPiAgPC9jaXJjbGU+PC9zdmc+\\\");\\n      background-size: auto calc(min(50%, 400px));\\n    }\\n    \");\n",
       "    },    function(Bokeh) {\n",
       "      Bokeh.set_log_level(\"info\");\n",
       "    },\n",
       "function(Bokeh) {} // ensure no trailing comma for IE\n",
       "  ];\n",
       "\n",
       "  function run_inline_js() {\n",
       "    if ((root.Bokeh !== undefined) || (force === true)) {\n",
       "      for (var i = 0; i < inline_js.length; i++) {\n",
       "        inline_js[i].call(root, root.Bokeh);\n",
       "      }} else if (Date.now() < root._bokeh_timeout) {\n",
       "      setTimeout(run_inline_js, 100);\n",
       "    } else if (!root._bokeh_failed_load) {\n",
       "      console.log(\"Bokeh: BokehJS failed to load within specified timeout.\");\n",
       "      root._bokeh_failed_load = true;\n",
       "    }\n",
       "  }\n",
       "\n",
       "  if (root._bokeh_is_loading === 0) {\n",
       "    console.debug(\"Bokeh: BokehJS loaded, going straight to plotting\");\n",
       "    run_inline_js();\n",
       "  } else {\n",
       "    load_libs(css_urls, js_urls, js_modules, function() {\n",
       "      console.debug(\"Bokeh: BokehJS plotting callback run at\", now());\n",
       "      run_inline_js();\n",
       "    });\n",
       "  }\n",
       "}(window));"
      ],
      "application/vnd.holoviews_load.v0+json": "(function(root) {\n  function now() {\n    return new Date();\n  }\n\n  var force = true;\n\n  if (typeof root._bokeh_onload_callbacks === \"undefined\" || force === true) {\n    root._bokeh_onload_callbacks = [];\n    root._bokeh_is_loading = undefined;\n  }\n\n  if (typeof (root._bokeh_timeout) === \"undefined\" || force === true) {\n    root._bokeh_timeout = Date.now() + 5000;\n    root._bokeh_failed_load = false;\n  }\n\n  function run_callbacks() {\n    try {\n      root._bokeh_onload_callbacks.forEach(function(callback) {\n        if (callback != null)\n          callback();\n      });\n    } finally {\n      delete root._bokeh_onload_callbacks\n    }\n    console.debug(\"Bokeh: all callbacks have finished\");\n  }\n\n  function load_libs(css_urls, js_urls, js_modules, callback) {\n    if (css_urls == null) css_urls = [];\n    if (js_urls == null) js_urls = [];\n    if (js_modules == null) js_modules = [];\n\n    root._bokeh_onload_callbacks.push(callback);\n    if (root._bokeh_is_loading > 0) {\n      console.debug(\"Bokeh: BokehJS is being loaded, scheduling callback at\", now());\n      return null;\n    }\n    if (js_urls.length === 0 && js_modules.length === 0) {\n      run_callbacks();\n      return null;\n    }\n    console.debug(\"Bokeh: BokehJS not loaded, scheduling load and callback at\", now());\n\n    function on_load() {\n      root._bokeh_is_loading--;\n      if (root._bokeh_is_loading === 0) {\n        console.debug(\"Bokeh: all BokehJS libraries/stylesheets loaded\");\n        run_callbacks()\n      }\n    }\n\n    function on_error() {\n      console.error(\"failed to load \" + url);\n    }\n\n    for (var i = 0; i < css_urls.length; i++) {\n      var url = css_urls[i];\n      const element = document.createElement(\"link\");\n      element.onload = on_load;\n      element.onerror = on_error;\n      element.rel = \"stylesheet\";\n      element.type = \"text/css\";\n      element.href = url;\n      console.debug(\"Bokeh: injecting link tag for BokehJS stylesheet: \", url);\n      document.body.appendChild(element);\n    }\n\n    var skip = [];\n    if (window.requirejs) {\n      window.requirejs.config({'packages': {}, 'paths': {'tabulator': 'https://unpkg.com/tabulator-tables@4.9.3/dist/js/tabulator', 'moment': 'https://cdn.jsdelivr.net/npm/luxon/build/global/luxon.min', 'gridstack': 'https://cdn.jsdelivr.net/npm/gridstack@4.2.5/dist/gridstack-h5', 'notyf': 'https://cdn.jsdelivr.net/npm/notyf@3/notyf.min'}, 'shim': {'gridstack': {'exports': 'GridStack'}}});\n      require([\"tabulator\"], function(Tabulator) {\n\twindow.Tabulator = Tabulator\n\ton_load()\n      })\n      require([\"moment\"], function(moment) {\n\twindow.moment = moment\n\ton_load()\n      })\n      require([\"gridstack\"], function(GridStack) {\n\twindow.GridStack = GridStack\n\ton_load()\n      })\n      require([\"notyf\"], function() {\n\ton_load()\n      })\n      root._bokeh_is_loading = css_urls.length + 4;\n    } else {\n      root._bokeh_is_loading = css_urls.length + js_urls.length + js_modules.length;\n    }    if (((window['Tabulator'] !== undefined) && (!(window['Tabulator'] instanceof HTMLElement))) || window.requirejs) {\n      var urls = ['https://unpkg.com/tabulator-tables@4.9.3/dist/js/tabulator.js'];\n      for (var i = 0; i < urls.length; i++) {\n        skip.push(urls[i])\n      }\n    }    if (((window['moment'] !== undefined) && (!(window['moment'] instanceof HTMLElement))) || window.requirejs) {\n      var urls = ['https://cdn.jsdelivr.net/npm/luxon/build/global/luxon.min.js'];\n      for (var i = 0; i < urls.length; i++) {\n        skip.push(urls[i])\n      }\n    }    if (((window['GridStack'] !== undefined) && (!(window['GridStack'] instanceof HTMLElement))) || window.requirejs) {\n      var urls = ['https://cdn.jsdelivr.net/npm/gridstack@4.2.5/dist/gridstack-h5.js'];\n      for (var i = 0; i < urls.length; i++) {\n        skip.push(urls[i])\n      }\n    }    if (((window['Notyf'] !== undefined) && (!(window['Notyf'] instanceof HTMLElement))) || window.requirejs) {\n      var urls = ['https://cdn.jsdelivr.net/npm/notyf@3/notyf.min.js'];\n      for (var i = 0; i < urls.length; i++) {\n        skip.push(urls[i])\n      }\n    }    for (var i = 0; i < js_urls.length; i++) {\n      var url = js_urls[i];\n      if (skip.indexOf(url) >= 0) {\n\tif (!window.requirejs) {\n\t  on_load();\n\t}\n\tcontinue;\n      }\n      var element = document.createElement('script');\n      element.onload = on_load;\n      element.onerror = on_error;\n      element.async = false;\n      element.src = url;\n      console.debug(\"Bokeh: injecting script tag for BokehJS library: \", url);\n      document.head.appendChild(element);\n    }\n    for (var i = 0; i < js_modules.length; i++) {\n      var url = js_modules[i];\n      if (skip.indexOf(url) >= 0) {\n\tif (!window.requirejs) {\n\t  on_load();\n\t}\n\tcontinue;\n      }\n      var element = document.createElement('script');\n      element.onload = on_load;\n      element.onerror = on_error;\n      element.async = false;\n      element.src = url;\n      element.type = \"module\";\n      console.debug(\"Bokeh: injecting script tag for BokehJS library: \", url);\n      document.head.appendChild(element);\n    }\n    if (!js_urls.length && !js_modules.length) {\n      on_load()\n    }\n  };\n\n  function inject_raw_css(css) {\n    const element = document.createElement(\"style\");\n    element.appendChild(document.createTextNode(css));\n    document.body.appendChild(element);\n  }\n\n  var js_urls = [\"https://unpkg.com/tabulator-tables@4.9.3/dist/js/tabulator.js\", \"https://cdn.jsdelivr.net/npm/luxon/build/global/luxon.min.js\", \"https://cdn.bokeh.org/bokeh/release/bokeh-2.4.3.min.js\", \"https://cdn.bokeh.org/bokeh/release/bokeh-gl-2.4.3.min.js\", \"https://cdn.bokeh.org/bokeh/release/bokeh-widgets-2.4.3.min.js\", \"https://cdn.bokeh.org/bokeh/release/bokeh-tables-2.4.3.min.js\", \"https://cdn.bokeh.org/bokeh/release/bokeh-mathjax-2.4.3.min.js\", \"https://cdn.jsdelivr.net/npm/notyf@3/notyf.min.js\", \"https://unpkg.com/@holoviz/panel@0.13.1/dist/panel.min.js\"];\n  var js_modules = [];\n  var css_urls = [\"https://unpkg.com/tabulator-tables@4.9.3/dist/css/tabulator_simple.min.css\", \"https://cdn.jsdelivr.net/npm/notyf@3/notyf.min.css\", \"https://cdnjs.cloudflare.com/ajax/libs/font-awesome/5.15.1/css/all.min.css\", \"https://unpkg.com/@holoviz/panel@0.13.1/dist/css/alerts.css\", \"https://unpkg.com/@holoviz/panel@0.13.1/dist/css/card.css\", \"https://unpkg.com/@holoviz/panel@0.13.1/dist/css/dataframe.css\", \"https://unpkg.com/@holoviz/panel@0.13.1/dist/css/debugger.css\", \"https://unpkg.com/@holoviz/panel@0.13.1/dist/css/json.css\", \"https://unpkg.com/@holoviz/panel@0.13.1/dist/css/loading.css\", \"https://unpkg.com/@holoviz/panel@0.13.1/dist/css/markdown.css\", \"https://unpkg.com/@holoviz/panel@0.13.1/dist/css/widgets.css\"];\n  var inline_js = [    function(Bokeh) {\n      inject_raw_css(\"\\n    .bk.pn-loading.arcs:before {\\n      background-image: url(\\\"data:image/svg+xml;base64,PHN2ZyB4bWxucz0iaHR0cDovL3d3dy53My5vcmcvMjAwMC9zdmciIHhtbG5zOnhsaW5rPSJodHRwOi8vd3d3LnczLm9yZy8xOTk5L3hsaW5rIiBzdHlsZT0ibWFyZ2luOiBhdXRvOyBiYWNrZ3JvdW5kOiBub25lOyBkaXNwbGF5OiBibG9jazsgc2hhcGUtcmVuZGVyaW5nOiBhdXRvOyIgdmlld0JveD0iMCAwIDEwMCAxMDAiIHByZXNlcnZlQXNwZWN0UmF0aW89InhNaWRZTWlkIj4gIDxjaXJjbGUgY3g9IjUwIiBjeT0iNTAiIHI9IjMyIiBzdHJva2Utd2lkdGg9IjgiIHN0cm9rZT0iI2MzYzNjMyIgc3Ryb2tlLWRhc2hhcnJheT0iNTAuMjY1NDgyNDU3NDM2NjkgNTAuMjY1NDgyNDU3NDM2NjkiIGZpbGw9Im5vbmUiIHN0cm9rZS1saW5lY2FwPSJyb3VuZCI+ICAgIDxhbmltYXRlVHJhbnNmb3JtIGF0dHJpYnV0ZU5hbWU9InRyYW5zZm9ybSIgdHlwZT0icm90YXRlIiByZXBlYXRDb3VudD0iaW5kZWZpbml0ZSIgZHVyPSIxcyIga2V5VGltZXM9IjA7MSIgdmFsdWVzPSIwIDUwIDUwOzM2MCA1MCA1MCI+PC9hbmltYXRlVHJhbnNmb3JtPiAgPC9jaXJjbGU+PC9zdmc+\\\");\\n      background-size: auto calc(min(50%, 400px));\\n    }\\n    \");\n    },    function(Bokeh) {\n      Bokeh.set_log_level(\"info\");\n    },\nfunction(Bokeh) {} // ensure no trailing comma for IE\n  ];\n\n  function run_inline_js() {\n    if ((root.Bokeh !== undefined) || (force === true)) {\n      for (var i = 0; i < inline_js.length; i++) {\n        inline_js[i].call(root, root.Bokeh);\n      }} else if (Date.now() < root._bokeh_timeout) {\n      setTimeout(run_inline_js, 100);\n    } else if (!root._bokeh_failed_load) {\n      console.log(\"Bokeh: BokehJS failed to load within specified timeout.\");\n      root._bokeh_failed_load = true;\n    }\n  }\n\n  if (root._bokeh_is_loading === 0) {\n    console.debug(\"Bokeh: BokehJS loaded, going straight to plotting\");\n    run_inline_js();\n  } else {\n    load_libs(css_urls, js_urls, js_modules, function() {\n      console.debug(\"Bokeh: BokehJS plotting callback run at\", now());\n      run_inline_js();\n    });\n  }\n}(window));"
     },
     "metadata": {},
     "output_type": "display_data"
    },
    {
     "data": {
      "application/javascript": [
       "\n",
       "if ((window.PyViz === undefined) || (window.PyViz instanceof HTMLElement)) {\n",
       "  window.PyViz = {comms: {}, comm_status:{}, kernels:{}, receivers: {}, plot_index: []}\n",
       "}\n",
       "\n",
       "\n",
       "    function JupyterCommManager() {\n",
       "    }\n",
       "\n",
       "    JupyterCommManager.prototype.register_target = function(plot_id, comm_id, msg_handler) {\n",
       "      if (window.comm_manager || ((window.Jupyter !== undefined) && (Jupyter.notebook.kernel != null))) {\n",
       "        var comm_manager = window.comm_manager || Jupyter.notebook.kernel.comm_manager;\n",
       "        comm_manager.register_target(comm_id, function(comm) {\n",
       "          comm.on_msg(msg_handler);\n",
       "        });\n",
       "      } else if ((plot_id in window.PyViz.kernels) && (window.PyViz.kernels[plot_id])) {\n",
       "        window.PyViz.kernels[plot_id].registerCommTarget(comm_id, function(comm) {\n",
       "          comm.onMsg = msg_handler;\n",
       "        });\n",
       "      } else if (typeof google != 'undefined' && google.colab.kernel != null) {\n",
       "        google.colab.kernel.comms.registerTarget(comm_id, (comm) => {\n",
       "          var messages = comm.messages[Symbol.asyncIterator]();\n",
       "          function processIteratorResult(result) {\n",
       "            var message = result.value;\n",
       "            console.log(message)\n",
       "            var content = {data: message.data, comm_id};\n",
       "            var buffers = []\n",
       "            for (var buffer of message.buffers || []) {\n",
       "              buffers.push(new DataView(buffer))\n",
       "            }\n",
       "            var metadata = message.metadata || {};\n",
       "            var msg = {content, buffers, metadata}\n",
       "            msg_handler(msg);\n",
       "            return messages.next().then(processIteratorResult);\n",
       "          }\n",
       "          return messages.next().then(processIteratorResult);\n",
       "        })\n",
       "      }\n",
       "    }\n",
       "\n",
       "    JupyterCommManager.prototype.get_client_comm = function(plot_id, comm_id, msg_handler) {\n",
       "      if (comm_id in window.PyViz.comms) {\n",
       "        return window.PyViz.comms[comm_id];\n",
       "      } else if (window.comm_manager || ((window.Jupyter !== undefined) && (Jupyter.notebook.kernel != null))) {\n",
       "        var comm_manager = window.comm_manager || Jupyter.notebook.kernel.comm_manager;\n",
       "        var comm = comm_manager.new_comm(comm_id, {}, {}, {}, comm_id);\n",
       "        if (msg_handler) {\n",
       "          comm.on_msg(msg_handler);\n",
       "        }\n",
       "      } else if ((plot_id in window.PyViz.kernels) && (window.PyViz.kernels[plot_id])) {\n",
       "        var comm = window.PyViz.kernels[plot_id].connectToComm(comm_id);\n",
       "        comm.open();\n",
       "        if (msg_handler) {\n",
       "          comm.onMsg = msg_handler;\n",
       "        }\n",
       "      } else if (typeof google != 'undefined' && google.colab.kernel != null) {\n",
       "        var comm_promise = google.colab.kernel.comms.open(comm_id)\n",
       "        comm_promise.then((comm) => {\n",
       "          window.PyViz.comms[comm_id] = comm;\n",
       "          if (msg_handler) {\n",
       "            var messages = comm.messages[Symbol.asyncIterator]();\n",
       "            function processIteratorResult(result) {\n",
       "              var message = result.value;\n",
       "              var content = {data: message.data};\n",
       "              var metadata = message.metadata || {comm_id};\n",
       "              var msg = {content, metadata}\n",
       "              msg_handler(msg);\n",
       "              return messages.next().then(processIteratorResult);\n",
       "            }\n",
       "            return messages.next().then(processIteratorResult);\n",
       "          }\n",
       "        }) \n",
       "        var sendClosure = (data, metadata, buffers, disposeOnDone) => {\n",
       "          return comm_promise.then((comm) => {\n",
       "            comm.send(data, metadata, buffers, disposeOnDone);\n",
       "          });\n",
       "        };\n",
       "        var comm = {\n",
       "          send: sendClosure\n",
       "        };\n",
       "      }\n",
       "      window.PyViz.comms[comm_id] = comm;\n",
       "      return comm;\n",
       "    }\n",
       "    window.PyViz.comm_manager = new JupyterCommManager();\n",
       "    \n",
       "\n",
       "\n",
       "var JS_MIME_TYPE = 'application/javascript';\n",
       "var HTML_MIME_TYPE = 'text/html';\n",
       "var EXEC_MIME_TYPE = 'application/vnd.holoviews_exec.v0+json';\n",
       "var CLASS_NAME = 'output';\n",
       "\n",
       "/**\n",
       " * Render data to the DOM node\n",
       " */\n",
       "function render(props, node) {\n",
       "  var div = document.createElement(\"div\");\n",
       "  var script = document.createElement(\"script\");\n",
       "  node.appendChild(div);\n",
       "  node.appendChild(script);\n",
       "}\n",
       "\n",
       "/**\n",
       " * Handle when a new output is added\n",
       " */\n",
       "function handle_add_output(event, handle) {\n",
       "  var output_area = handle.output_area;\n",
       "  var output = handle.output;\n",
       "  if ((output.data == undefined) || (!output.data.hasOwnProperty(EXEC_MIME_TYPE))) {\n",
       "    return\n",
       "  }\n",
       "  var id = output.metadata[EXEC_MIME_TYPE][\"id\"];\n",
       "  var toinsert = output_area.element.find(\".\" + CLASS_NAME.split(' ')[0]);\n",
       "  if (id !== undefined) {\n",
       "    var nchildren = toinsert.length;\n",
       "    var html_node = toinsert[nchildren-1].children[0];\n",
       "    html_node.innerHTML = output.data[HTML_MIME_TYPE];\n",
       "    var scripts = [];\n",
       "    var nodelist = html_node.querySelectorAll(\"script\");\n",
       "    for (var i in nodelist) {\n",
       "      if (nodelist.hasOwnProperty(i)) {\n",
       "        scripts.push(nodelist[i])\n",
       "      }\n",
       "    }\n",
       "\n",
       "    scripts.forEach( function (oldScript) {\n",
       "      var newScript = document.createElement(\"script\");\n",
       "      var attrs = [];\n",
       "      var nodemap = oldScript.attributes;\n",
       "      for (var j in nodemap) {\n",
       "        if (nodemap.hasOwnProperty(j)) {\n",
       "          attrs.push(nodemap[j])\n",
       "        }\n",
       "      }\n",
       "      attrs.forEach(function(attr) { newScript.setAttribute(attr.name, attr.value) });\n",
       "      newScript.appendChild(document.createTextNode(oldScript.innerHTML));\n",
       "      oldScript.parentNode.replaceChild(newScript, oldScript);\n",
       "    });\n",
       "    if (JS_MIME_TYPE in output.data) {\n",
       "      toinsert[nchildren-1].children[1].textContent = output.data[JS_MIME_TYPE];\n",
       "    }\n",
       "    output_area._hv_plot_id = id;\n",
       "    if ((window.Bokeh !== undefined) && (id in Bokeh.index)) {\n",
       "      window.PyViz.plot_index[id] = Bokeh.index[id];\n",
       "    } else {\n",
       "      window.PyViz.plot_index[id] = null;\n",
       "    }\n",
       "  } else if (output.metadata[EXEC_MIME_TYPE][\"server_id\"] !== undefined) {\n",
       "    var bk_div = document.createElement(\"div\");\n",
       "    bk_div.innerHTML = output.data[HTML_MIME_TYPE];\n",
       "    var script_attrs = bk_div.children[0].attributes;\n",
       "    for (var i = 0; i < script_attrs.length; i++) {\n",
       "      toinsert[toinsert.length - 1].childNodes[1].setAttribute(script_attrs[i].name, script_attrs[i].value);\n",
       "    }\n",
       "    // store reference to server id on output_area\n",
       "    output_area._bokeh_server_id = output.metadata[EXEC_MIME_TYPE][\"server_id\"];\n",
       "  }\n",
       "}\n",
       "\n",
       "/**\n",
       " * Handle when an output is cleared or removed\n",
       " */\n",
       "function handle_clear_output(event, handle) {\n",
       "  var id = handle.cell.output_area._hv_plot_id;\n",
       "  var server_id = handle.cell.output_area._bokeh_server_id;\n",
       "  if (((id === undefined) || !(id in PyViz.plot_index)) && (server_id !== undefined)) { return; }\n",
       "  var comm = window.PyViz.comm_manager.get_client_comm(\"hv-extension-comm\", \"hv-extension-comm\", function () {});\n",
       "  if (server_id !== null) {\n",
       "    comm.send({event_type: 'server_delete', 'id': server_id});\n",
       "    return;\n",
       "  } else if (comm !== null) {\n",
       "    comm.send({event_type: 'delete', 'id': id});\n",
       "  }\n",
       "  delete PyViz.plot_index[id];\n",
       "  if ((window.Bokeh !== undefined) & (id in window.Bokeh.index)) {\n",
       "    var doc = window.Bokeh.index[id].model.document\n",
       "    doc.clear();\n",
       "    const i = window.Bokeh.documents.indexOf(doc);\n",
       "    if (i > -1) {\n",
       "      window.Bokeh.documents.splice(i, 1);\n",
       "    }\n",
       "  }\n",
       "}\n",
       "\n",
       "/**\n",
       " * Handle kernel restart event\n",
       " */\n",
       "function handle_kernel_cleanup(event, handle) {\n",
       "  delete PyViz.comms[\"hv-extension-comm\"];\n",
       "  window.PyViz.plot_index = {}\n",
       "}\n",
       "\n",
       "/**\n",
       " * Handle update_display_data messages\n",
       " */\n",
       "function handle_update_output(event, handle) {\n",
       "  handle_clear_output(event, {cell: {output_area: handle.output_area}})\n",
       "  handle_add_output(event, handle)\n",
       "}\n",
       "\n",
       "function register_renderer(events, OutputArea) {\n",
       "  function append_mime(data, metadata, element) {\n",
       "    // create a DOM node to render to\n",
       "    var toinsert = this.create_output_subarea(\n",
       "    metadata,\n",
       "    CLASS_NAME,\n",
       "    EXEC_MIME_TYPE\n",
       "    );\n",
       "    this.keyboard_manager.register_events(toinsert);\n",
       "    // Render to node\n",
       "    var props = {data: data, metadata: metadata[EXEC_MIME_TYPE]};\n",
       "    render(props, toinsert[0]);\n",
       "    element.append(toinsert);\n",
       "    return toinsert\n",
       "  }\n",
       "\n",
       "  events.on('output_added.OutputArea', handle_add_output);\n",
       "  events.on('output_updated.OutputArea', handle_update_output);\n",
       "  events.on('clear_output.CodeCell', handle_clear_output);\n",
       "  events.on('delete.Cell', handle_clear_output);\n",
       "  events.on('kernel_ready.Kernel', handle_kernel_cleanup);\n",
       "\n",
       "  OutputArea.prototype.register_mime_type(EXEC_MIME_TYPE, append_mime, {\n",
       "    safe: true,\n",
       "    index: 0\n",
       "  });\n",
       "}\n",
       "\n",
       "if (window.Jupyter !== undefined) {\n",
       "  try {\n",
       "    var events = require('base/js/events');\n",
       "    var OutputArea = require('notebook/js/outputarea').OutputArea;\n",
       "    if (OutputArea.prototype.mime_types().indexOf(EXEC_MIME_TYPE) == -1) {\n",
       "      register_renderer(events, OutputArea);\n",
       "    }\n",
       "  } catch(err) {\n",
       "  }\n",
       "}\n"
      ],
      "application/vnd.holoviews_load.v0+json": "\nif ((window.PyViz === undefined) || (window.PyViz instanceof HTMLElement)) {\n  window.PyViz = {comms: {}, comm_status:{}, kernels:{}, receivers: {}, plot_index: []}\n}\n\n\n    function JupyterCommManager() {\n    }\n\n    JupyterCommManager.prototype.register_target = function(plot_id, comm_id, msg_handler) {\n      if (window.comm_manager || ((window.Jupyter !== undefined) && (Jupyter.notebook.kernel != null))) {\n        var comm_manager = window.comm_manager || Jupyter.notebook.kernel.comm_manager;\n        comm_manager.register_target(comm_id, function(comm) {\n          comm.on_msg(msg_handler);\n        });\n      } else if ((plot_id in window.PyViz.kernels) && (window.PyViz.kernels[plot_id])) {\n        window.PyViz.kernels[plot_id].registerCommTarget(comm_id, function(comm) {\n          comm.onMsg = msg_handler;\n        });\n      } else if (typeof google != 'undefined' && google.colab.kernel != null) {\n        google.colab.kernel.comms.registerTarget(comm_id, (comm) => {\n          var messages = comm.messages[Symbol.asyncIterator]();\n          function processIteratorResult(result) {\n            var message = result.value;\n            console.log(message)\n            var content = {data: message.data, comm_id};\n            var buffers = []\n            for (var buffer of message.buffers || []) {\n              buffers.push(new DataView(buffer))\n            }\n            var metadata = message.metadata || {};\n            var msg = {content, buffers, metadata}\n            msg_handler(msg);\n            return messages.next().then(processIteratorResult);\n          }\n          return messages.next().then(processIteratorResult);\n        })\n      }\n    }\n\n    JupyterCommManager.prototype.get_client_comm = function(plot_id, comm_id, msg_handler) {\n      if (comm_id in window.PyViz.comms) {\n        return window.PyViz.comms[comm_id];\n      } else if (window.comm_manager || ((window.Jupyter !== undefined) && (Jupyter.notebook.kernel != null))) {\n        var comm_manager = window.comm_manager || Jupyter.notebook.kernel.comm_manager;\n        var comm = comm_manager.new_comm(comm_id, {}, {}, {}, comm_id);\n        if (msg_handler) {\n          comm.on_msg(msg_handler);\n        }\n      } else if ((plot_id in window.PyViz.kernels) && (window.PyViz.kernels[plot_id])) {\n        var comm = window.PyViz.kernels[plot_id].connectToComm(comm_id);\n        comm.open();\n        if (msg_handler) {\n          comm.onMsg = msg_handler;\n        }\n      } else if (typeof google != 'undefined' && google.colab.kernel != null) {\n        var comm_promise = google.colab.kernel.comms.open(comm_id)\n        comm_promise.then((comm) => {\n          window.PyViz.comms[comm_id] = comm;\n          if (msg_handler) {\n            var messages = comm.messages[Symbol.asyncIterator]();\n            function processIteratorResult(result) {\n              var message = result.value;\n              var content = {data: message.data};\n              var metadata = message.metadata || {comm_id};\n              var msg = {content, metadata}\n              msg_handler(msg);\n              return messages.next().then(processIteratorResult);\n            }\n            return messages.next().then(processIteratorResult);\n          }\n        }) \n        var sendClosure = (data, metadata, buffers, disposeOnDone) => {\n          return comm_promise.then((comm) => {\n            comm.send(data, metadata, buffers, disposeOnDone);\n          });\n        };\n        var comm = {\n          send: sendClosure\n        };\n      }\n      window.PyViz.comms[comm_id] = comm;\n      return comm;\n    }\n    window.PyViz.comm_manager = new JupyterCommManager();\n    \n\n\nvar JS_MIME_TYPE = 'application/javascript';\nvar HTML_MIME_TYPE = 'text/html';\nvar EXEC_MIME_TYPE = 'application/vnd.holoviews_exec.v0+json';\nvar CLASS_NAME = 'output';\n\n/**\n * Render data to the DOM node\n */\nfunction render(props, node) {\n  var div = document.createElement(\"div\");\n  var script = document.createElement(\"script\");\n  node.appendChild(div);\n  node.appendChild(script);\n}\n\n/**\n * Handle when a new output is added\n */\nfunction handle_add_output(event, handle) {\n  var output_area = handle.output_area;\n  var output = handle.output;\n  if ((output.data == undefined) || (!output.data.hasOwnProperty(EXEC_MIME_TYPE))) {\n    return\n  }\n  var id = output.metadata[EXEC_MIME_TYPE][\"id\"];\n  var toinsert = output_area.element.find(\".\" + CLASS_NAME.split(' ')[0]);\n  if (id !== undefined) {\n    var nchildren = toinsert.length;\n    var html_node = toinsert[nchildren-1].children[0];\n    html_node.innerHTML = output.data[HTML_MIME_TYPE];\n    var scripts = [];\n    var nodelist = html_node.querySelectorAll(\"script\");\n    for (var i in nodelist) {\n      if (nodelist.hasOwnProperty(i)) {\n        scripts.push(nodelist[i])\n      }\n    }\n\n    scripts.forEach( function (oldScript) {\n      var newScript = document.createElement(\"script\");\n      var attrs = [];\n      var nodemap = oldScript.attributes;\n      for (var j in nodemap) {\n        if (nodemap.hasOwnProperty(j)) {\n          attrs.push(nodemap[j])\n        }\n      }\n      attrs.forEach(function(attr) { newScript.setAttribute(attr.name, attr.value) });\n      newScript.appendChild(document.createTextNode(oldScript.innerHTML));\n      oldScript.parentNode.replaceChild(newScript, oldScript);\n    });\n    if (JS_MIME_TYPE in output.data) {\n      toinsert[nchildren-1].children[1].textContent = output.data[JS_MIME_TYPE];\n    }\n    output_area._hv_plot_id = id;\n    if ((window.Bokeh !== undefined) && (id in Bokeh.index)) {\n      window.PyViz.plot_index[id] = Bokeh.index[id];\n    } else {\n      window.PyViz.plot_index[id] = null;\n    }\n  } else if (output.metadata[EXEC_MIME_TYPE][\"server_id\"] !== undefined) {\n    var bk_div = document.createElement(\"div\");\n    bk_div.innerHTML = output.data[HTML_MIME_TYPE];\n    var script_attrs = bk_div.children[0].attributes;\n    for (var i = 0; i < script_attrs.length; i++) {\n      toinsert[toinsert.length - 1].childNodes[1].setAttribute(script_attrs[i].name, script_attrs[i].value);\n    }\n    // store reference to server id on output_area\n    output_area._bokeh_server_id = output.metadata[EXEC_MIME_TYPE][\"server_id\"];\n  }\n}\n\n/**\n * Handle when an output is cleared or removed\n */\nfunction handle_clear_output(event, handle) {\n  var id = handle.cell.output_area._hv_plot_id;\n  var server_id = handle.cell.output_area._bokeh_server_id;\n  if (((id === undefined) || !(id in PyViz.plot_index)) && (server_id !== undefined)) { return; }\n  var comm = window.PyViz.comm_manager.get_client_comm(\"hv-extension-comm\", \"hv-extension-comm\", function () {});\n  if (server_id !== null) {\n    comm.send({event_type: 'server_delete', 'id': server_id});\n    return;\n  } else if (comm !== null) {\n    comm.send({event_type: 'delete', 'id': id});\n  }\n  delete PyViz.plot_index[id];\n  if ((window.Bokeh !== undefined) & (id in window.Bokeh.index)) {\n    var doc = window.Bokeh.index[id].model.document\n    doc.clear();\n    const i = window.Bokeh.documents.indexOf(doc);\n    if (i > -1) {\n      window.Bokeh.documents.splice(i, 1);\n    }\n  }\n}\n\n/**\n * Handle kernel restart event\n */\nfunction handle_kernel_cleanup(event, handle) {\n  delete PyViz.comms[\"hv-extension-comm\"];\n  window.PyViz.plot_index = {}\n}\n\n/**\n * Handle update_display_data messages\n */\nfunction handle_update_output(event, handle) {\n  handle_clear_output(event, {cell: {output_area: handle.output_area}})\n  handle_add_output(event, handle)\n}\n\nfunction register_renderer(events, OutputArea) {\n  function append_mime(data, metadata, element) {\n    // create a DOM node to render to\n    var toinsert = this.create_output_subarea(\n    metadata,\n    CLASS_NAME,\n    EXEC_MIME_TYPE\n    );\n    this.keyboard_manager.register_events(toinsert);\n    // Render to node\n    var props = {data: data, metadata: metadata[EXEC_MIME_TYPE]};\n    render(props, toinsert[0]);\n    element.append(toinsert);\n    return toinsert\n  }\n\n  events.on('output_added.OutputArea', handle_add_output);\n  events.on('output_updated.OutputArea', handle_update_output);\n  events.on('clear_output.CodeCell', handle_clear_output);\n  events.on('delete.Cell', handle_clear_output);\n  events.on('kernel_ready.Kernel', handle_kernel_cleanup);\n\n  OutputArea.prototype.register_mime_type(EXEC_MIME_TYPE, append_mime, {\n    safe: true,\n    index: 0\n  });\n}\n\nif (window.Jupyter !== undefined) {\n  try {\n    var events = require('base/js/events');\n    var OutputArea = require('notebook/js/outputarea').OutputArea;\n    if (OutputArea.prototype.mime_types().indexOf(EXEC_MIME_TYPE) == -1) {\n      register_renderer(events, OutputArea);\n    }\n  } catch(err) {\n  }\n}\n"
     },
     "metadata": {},
     "output_type": "display_data"
    },
    {
     "data": {
      "text/html": [
       "<style>.bk-root, .bk-root .bk:before, .bk-root .bk:after {\n",
       "  font-family: var(--jp-ui-font-size1);\n",
       "  font-size: var(--jp-ui-font-size1);\n",
       "  color: var(--jp-ui-font-color1);\n",
       "}\n",
       "</style>"
      ]
     },
     "metadata": {},
     "output_type": "display_data"
    }
   ],
   "source": [
    "import pandas as pd\n",
    "import numpy as np\n",
    "import panel as pn\n",
    "import datetime as dt\n",
    "from panel.interact import interact\n",
    "\n",
    "pn.extension('tabulator')\n",
    "import hvplot.pandas"
   ]
  },
  {
   "cell_type": "markdown",
   "id": "c217d1e3-9109-46bf-bdc5-bf43d08c4453",
   "metadata": {},
   "source": [
    "# Interactive dash board with panel\n",
    "In this project, I want to explore the panel package in python and make a interactive dashboard. By doing that, we need to create widgets we want to display on panel and create pipelines to reflect data change on panels. (Widgets - Interactive Pipeline - Dataframe) The source data is obtained from the world data bank, which contains country population from 1960 to 2021."
   ]
  },
  {
   "cell_type": "code",
   "execution_count": 2,
   "id": "c2993e49",
   "metadata": {},
   "outputs": [],
   "source": [
    "#data source: https://data.worldbank.org/indicator/SP.POP.TOTL\n",
    "\n",
    "# cache data to improve dashboard performance\n",
    "if 'data' not in pn.state.cache.keys():\n",
    "\n",
    "    df =  pd.read_csv('pop.csv')\n",
    "\n",
    "    pn.state.cache['data'] = df.copy()\n",
    "\n",
    "else: \n",
    "\n",
    "    df = pn.state.cache['data']"
   ]
  },
  {
   "cell_type": "markdown",
   "id": "13635a5f-0214-4a65-ab43-c8dae3e6c3b0",
   "metadata": {},
   "source": [
    "# Data preprocessing\n",
    "Firstly, I will obtain a list of countries for later use and we sort the list in alphabetical order."
   ]
  },
  {
   "cell_type": "code",
   "execution_count": 3,
   "id": "860dfaf4",
   "metadata": {},
   "outputs": [
    {
     "data": {
      "text/html": [
       "<div>\n",
       "<style scoped>\n",
       "    .dataframe tbody tr th:only-of-type {\n",
       "        vertical-align: middle;\n",
       "    }\n",
       "\n",
       "    .dataframe tbody tr th {\n",
       "        vertical-align: top;\n",
       "    }\n",
       "\n",
       "    .dataframe thead th {\n",
       "        text-align: right;\n",
       "    }\n",
       "</style>\n",
       "<table border=\"1\" class=\"dataframe\">\n",
       "  <thead>\n",
       "    <tr style=\"text-align: right;\">\n",
       "      <th></th>\n",
       "      <th>Country Name</th>\n",
       "      <th>1960</th>\n",
       "      <th>1961</th>\n",
       "      <th>1962</th>\n",
       "      <th>1963</th>\n",
       "      <th>1964</th>\n",
       "      <th>1965</th>\n",
       "      <th>1966</th>\n",
       "      <th>1967</th>\n",
       "      <th>1968</th>\n",
       "      <th>...</th>\n",
       "      <th>2012</th>\n",
       "      <th>2013</th>\n",
       "      <th>2014</th>\n",
       "      <th>2015</th>\n",
       "      <th>2016</th>\n",
       "      <th>2017</th>\n",
       "      <th>2018</th>\n",
       "      <th>2019</th>\n",
       "      <th>2020</th>\n",
       "      <th>2021</th>\n",
       "    </tr>\n",
       "  </thead>\n",
       "  <tbody>\n",
       "    <tr>\n",
       "      <th>0</th>\n",
       "      <td>Afghanistan</td>\n",
       "      <td>8996967.0</td>\n",
       "      <td>9169406.0</td>\n",
       "      <td>9351442.0</td>\n",
       "      <td>9543200.0</td>\n",
       "      <td>9744772.0</td>\n",
       "      <td>9956318.0</td>\n",
       "      <td>10174840.0</td>\n",
       "      <td>10399936.0</td>\n",
       "      <td>10637064.0</td>\n",
       "      <td>...</td>\n",
       "      <td>31161378</td>\n",
       "      <td>32269592</td>\n",
       "      <td>33370804</td>\n",
       "      <td>34413603</td>\n",
       "      <td>35383028</td>\n",
       "      <td>36296111</td>\n",
       "      <td>37171922</td>\n",
       "      <td>38041757</td>\n",
       "      <td>38928341</td>\n",
       "      <td>39835428</td>\n",
       "    </tr>\n",
       "    <tr>\n",
       "      <th>1</th>\n",
       "      <td>Albania</td>\n",
       "      <td>1608800.0</td>\n",
       "      <td>1659800.0</td>\n",
       "      <td>1711319.0</td>\n",
       "      <td>1762621.0</td>\n",
       "      <td>1814135.0</td>\n",
       "      <td>1864791.0</td>\n",
       "      <td>1914573.0</td>\n",
       "      <td>1965598.0</td>\n",
       "      <td>2022272.0</td>\n",
       "      <td>...</td>\n",
       "      <td>2900401</td>\n",
       "      <td>2895092</td>\n",
       "      <td>2889104</td>\n",
       "      <td>2880703</td>\n",
       "      <td>2876101</td>\n",
       "      <td>2873457</td>\n",
       "      <td>2866376</td>\n",
       "      <td>2854191</td>\n",
       "      <td>2837849</td>\n",
       "      <td>2811666</td>\n",
       "    </tr>\n",
       "    <tr>\n",
       "      <th>2</th>\n",
       "      <td>Algeria</td>\n",
       "      <td>11057864.0</td>\n",
       "      <td>11336336.0</td>\n",
       "      <td>11619828.0</td>\n",
       "      <td>11912800.0</td>\n",
       "      <td>12221675.0</td>\n",
       "      <td>12550880.0</td>\n",
       "      <td>12902626.0</td>\n",
       "      <td>13275020.0</td>\n",
       "      <td>13663581.0</td>\n",
       "      <td>...</td>\n",
       "      <td>37383899</td>\n",
       "      <td>38140135</td>\n",
       "      <td>38923688</td>\n",
       "      <td>39728020</td>\n",
       "      <td>40551398</td>\n",
       "      <td>41389174</td>\n",
       "      <td>42228415</td>\n",
       "      <td>43053054</td>\n",
       "      <td>43851043</td>\n",
       "      <td>44616626</td>\n",
       "    </tr>\n",
       "    <tr>\n",
       "      <th>3</th>\n",
       "      <td>American Samoa</td>\n",
       "      <td>20127.0</td>\n",
       "      <td>20605.0</td>\n",
       "      <td>21246.0</td>\n",
       "      <td>22029.0</td>\n",
       "      <td>22850.0</td>\n",
       "      <td>23675.0</td>\n",
       "      <td>24473.0</td>\n",
       "      <td>25235.0</td>\n",
       "      <td>25980.0</td>\n",
       "      <td>...</td>\n",
       "      <td>55669</td>\n",
       "      <td>55717</td>\n",
       "      <td>55791</td>\n",
       "      <td>55806</td>\n",
       "      <td>55739</td>\n",
       "      <td>55617</td>\n",
       "      <td>55461</td>\n",
       "      <td>55312</td>\n",
       "      <td>55197</td>\n",
       "      <td>55103</td>\n",
       "    </tr>\n",
       "    <tr>\n",
       "      <th>4</th>\n",
       "      <td>Andorra</td>\n",
       "      <td>13410.0</td>\n",
       "      <td>14378.0</td>\n",
       "      <td>15379.0</td>\n",
       "      <td>16407.0</td>\n",
       "      <td>17466.0</td>\n",
       "      <td>18542.0</td>\n",
       "      <td>19646.0</td>\n",
       "      <td>20760.0</td>\n",
       "      <td>21886.0</td>\n",
       "      <td>...</td>\n",
       "      <td>82427</td>\n",
       "      <td>80770</td>\n",
       "      <td>79213</td>\n",
       "      <td>77993</td>\n",
       "      <td>77295</td>\n",
       "      <td>76997</td>\n",
       "      <td>77008</td>\n",
       "      <td>77146</td>\n",
       "      <td>77265</td>\n",
       "      <td>77354</td>\n",
       "    </tr>\n",
       "  </tbody>\n",
       "</table>\n",
       "<p>5 rows × 63 columns</p>\n",
       "</div>"
      ],
      "text/plain": [
       "     Country Name        1960        1961        1962        1963        1964  \\\n",
       "0     Afghanistan   8996967.0   9169406.0   9351442.0   9543200.0   9744772.0   \n",
       "1         Albania   1608800.0   1659800.0   1711319.0   1762621.0   1814135.0   \n",
       "2         Algeria  11057864.0  11336336.0  11619828.0  11912800.0  12221675.0   \n",
       "3  American Samoa     20127.0     20605.0     21246.0     22029.0     22850.0   \n",
       "4         Andorra     13410.0     14378.0     15379.0     16407.0     17466.0   \n",
       "\n",
       "         1965        1966        1967        1968  ...      2012      2013  \\\n",
       "0   9956318.0  10174840.0  10399936.0  10637064.0  ...  31161378  32269592   \n",
       "1   1864791.0   1914573.0   1965598.0   2022272.0  ...   2900401   2895092   \n",
       "2  12550880.0  12902626.0  13275020.0  13663581.0  ...  37383899  38140135   \n",
       "3     23675.0     24473.0     25235.0     25980.0  ...     55669     55717   \n",
       "4     18542.0     19646.0     20760.0     21886.0  ...     82427     80770   \n",
       "\n",
       "       2014      2015      2016      2017      2018      2019      2020  \\\n",
       "0  33370804  34413603  35383028  36296111  37171922  38041757  38928341   \n",
       "1   2889104   2880703   2876101   2873457   2866376   2854191   2837849   \n",
       "2  38923688  39728020  40551398  41389174  42228415  43053054  43851043   \n",
       "3     55791     55806     55739     55617     55461     55312     55197   \n",
       "4     79213     77993     77295     76997     77008     77146     77265   \n",
       "\n",
       "       2021  \n",
       "0  39835428  \n",
       "1   2811666  \n",
       "2  44616626  \n",
       "3     55103  \n",
       "4     77354  \n",
       "\n",
       "[5 rows x 63 columns]"
      ]
     },
     "execution_count": 3,
     "metadata": {},
     "output_type": "execute_result"
    }
   ],
   "source": [
    "countries = df['Country Name'].values.tolist()\n",
    "countries.sort()\n",
    "df.head()"
   ]
  },
  {
   "cell_type": "markdown",
   "id": "b633d716-beb9-44a3-9424-698e036d511f",
   "metadata": {},
   "source": [
    " And we can see the dataframe has 'year' as column names, but we need all year values as a column. We can improve that with a melt() function. We also set new column name as 'Year' and 'Population'."
   ]
  },
  {
   "cell_type": "code",
   "execution_count": 4,
   "id": "5dec1d1e",
   "metadata": {},
   "outputs": [
    {
     "data": {
      "text/html": [
       "<div>\n",
       "<style scoped>\n",
       "    .dataframe tbody tr th:only-of-type {\n",
       "        vertical-align: middle;\n",
       "    }\n",
       "\n",
       "    .dataframe tbody tr th {\n",
       "        vertical-align: top;\n",
       "    }\n",
       "\n",
       "    .dataframe thead th {\n",
       "        text-align: right;\n",
       "    }\n",
       "</style>\n",
       "<table border=\"1\" class=\"dataframe\">\n",
       "  <thead>\n",
       "    <tr style=\"text-align: right;\">\n",
       "      <th></th>\n",
       "      <th>Country Name</th>\n",
       "      <th>Year</th>\n",
       "      <th>Population</th>\n",
       "    </tr>\n",
       "  </thead>\n",
       "  <tbody>\n",
       "    <tr>\n",
       "      <th>0</th>\n",
       "      <td>Afghanistan</td>\n",
       "      <td>1960</td>\n",
       "      <td>8996967.0</td>\n",
       "    </tr>\n",
       "    <tr>\n",
       "      <th>1</th>\n",
       "      <td>Albania</td>\n",
       "      <td>1960</td>\n",
       "      <td>1608800.0</td>\n",
       "    </tr>\n",
       "    <tr>\n",
       "      <th>2</th>\n",
       "      <td>Algeria</td>\n",
       "      <td>1960</td>\n",
       "      <td>11057864.0</td>\n",
       "    </tr>\n",
       "    <tr>\n",
       "      <th>3</th>\n",
       "      <td>American Samoa</td>\n",
       "      <td>1960</td>\n",
       "      <td>20127.0</td>\n",
       "    </tr>\n",
       "    <tr>\n",
       "      <th>4</th>\n",
       "      <td>Andorra</td>\n",
       "      <td>1960</td>\n",
       "      <td>13410.0</td>\n",
       "    </tr>\n",
       "  </tbody>\n",
       "</table>\n",
       "</div>"
      ],
      "text/plain": [
       "     Country Name  Year  Population\n",
       "0     Afghanistan  1960   8996967.0\n",
       "1         Albania  1960   1608800.0\n",
       "2         Algeria  1960  11057864.0\n",
       "3  American Samoa  1960     20127.0\n",
       "4         Andorra  1960     13410.0"
      ]
     },
     "execution_count": 4,
     "metadata": {},
     "output_type": "execute_result"
    }
   ],
   "source": [
    "df = df.melt('Country Name', var_name='Year', value_name='Population')\n",
    "df['Year'] = pd.to_numeric(df['Year'])\n",
    "df['Population'] = pd.to_numeric(df['Population'])\n",
    "df.head()"
   ]
  },
  {
   "cell_type": "markdown",
   "id": "18a9e553-e4c5-44ba-908a-6b5afa03505a",
   "metadata": {},
   "source": [
    "We will fill any NA value with 0 and make our dataframe pipeline interactive."
   ]
  },
  {
   "cell_type": "code",
   "execution_count": 5,
   "id": "d8b4531e",
   "metadata": {},
   "outputs": [
    {
     "data": {
      "text/plain": [
       "hvplot.interactive.Interactive"
      ]
     },
     "execution_count": 5,
     "metadata": {},
     "output_type": "execute_result"
    }
   ],
   "source": [
    "# Fill NAs with 0s\n",
    "df = df.fillna(\"0\")\n",
    "\n",
    "# Make DataFrame Pipeline Interactive\n",
    "idf = df.interactive()\n",
    "type(idf)"
   ]
  },
  {
   "cell_type": "markdown",
   "id": "83a6cff8-bcfd-4957-bc1d-c988536a1f5c",
   "metadata": {},
   "source": [
    "# Create widgets\n",
    "The first widget I create is a IntSlider widget which allows selecting an integer value within a set bounds using a slider."
   ]
  },
  {
   "cell_type": "code",
   "execution_count": 6,
   "id": "be621114",
   "metadata": {},
   "outputs": [
    {
     "data": {},
     "metadata": {},
     "output_type": "display_data"
    },
    {
     "data": {
      "application/vnd.holoviews_exec.v0+json": "",
      "text/html": [
       "<div id='1002'>\n",
       "  <div class=\"bk-root\" id=\"433a5a77-7537-499c-8544-20af8e5113ae\" data-root-id=\"1002\"></div>\n",
       "</div>\n",
       "<script type=\"application/javascript\">(function(root) {\n",
       "  function embed_document(root) {\n",
       "    var docs_json = {\"733ff9f4-fa9c-4e9c-8fc5-e87a37f086ac\":{\"defs\":[{\"extends\":null,\"module\":null,\"name\":\"ReactiveHTML1\",\"overrides\":[],\"properties\":[]},{\"extends\":null,\"module\":null,\"name\":\"FlexBox1\",\"overrides\":[],\"properties\":[{\"default\":\"flex-start\",\"kind\":null,\"name\":\"align_content\"},{\"default\":\"flex-start\",\"kind\":null,\"name\":\"align_items\"},{\"default\":\"row\",\"kind\":null,\"name\":\"flex_direction\"},{\"default\":\"wrap\",\"kind\":null,\"name\":\"flex_wrap\"},{\"default\":\"flex-start\",\"kind\":null,\"name\":\"justify_content\"}]},{\"extends\":null,\"module\":null,\"name\":\"GridStack1\",\"overrides\":[],\"properties\":[{\"default\":\"warn\",\"kind\":null,\"name\":\"mode\"},{\"default\":null,\"kind\":null,\"name\":\"ncols\"},{\"default\":null,\"kind\":null,\"name\":\"nrows\"},{\"default\":true,\"kind\":null,\"name\":\"allow_resize\"},{\"default\":true,\"kind\":null,\"name\":\"allow_drag\"},{\"default\":[],\"kind\":null,\"name\":\"state\"}]},{\"extends\":null,\"module\":null,\"name\":\"click1\",\"overrides\":[],\"properties\":[{\"default\":\"\",\"kind\":null,\"name\":\"terminal_output\"},{\"default\":\"\",\"kind\":null,\"name\":\"debug_name\"},{\"default\":0,\"kind\":null,\"name\":\"clears\"}]},{\"extends\":null,\"module\":null,\"name\":\"NotificationAreaBase1\",\"overrides\":[],\"properties\":[{\"default\":\"bottom-right\",\"kind\":null,\"name\":\"position\"},{\"default\":0,\"kind\":null,\"name\":\"_clear\"}]},{\"extends\":null,\"module\":null,\"name\":\"NotificationArea1\",\"overrides\":[],\"properties\":[{\"default\":[],\"kind\":null,\"name\":\"notifications\"},{\"default\":\"bottom-right\",\"kind\":null,\"name\":\"position\"},{\"default\":0,\"kind\":null,\"name\":\"_clear\"},{\"default\":[{\"background\":\"#ffc107\",\"icon\":{\"className\":\"fas fa-exclamation-triangle\",\"color\":\"white\",\"tagName\":\"i\"},\"type\":\"warning\"},{\"background\":\"#007bff\",\"icon\":{\"className\":\"fas fa-info-circle\",\"color\":\"white\",\"tagName\":\"i\"},\"type\":\"info\"}],\"kind\":null,\"name\":\"types\"}]},{\"extends\":null,\"module\":null,\"name\":\"Notification\",\"overrides\":[],\"properties\":[{\"default\":null,\"kind\":null,\"name\":\"background\"},{\"default\":3000,\"kind\":null,\"name\":\"duration\"},{\"default\":null,\"kind\":null,\"name\":\"icon\"},{\"default\":\"\",\"kind\":null,\"name\":\"message\"},{\"default\":null,\"kind\":null,\"name\":\"notification_type\"},{\"default\":false,\"kind\":null,\"name\":\"_destroyed\"}]},{\"extends\":null,\"module\":null,\"name\":\"TemplateActions1\",\"overrides\":[],\"properties\":[{\"default\":0,\"kind\":null,\"name\":\"open_modal\"},{\"default\":0,\"kind\":null,\"name\":\"close_modal\"}]},{\"extends\":null,\"module\":null,\"name\":\"MaterialTemplateActions1\",\"overrides\":[],\"properties\":[{\"default\":0,\"kind\":null,\"name\":\"open_modal\"},{\"default\":0,\"kind\":null,\"name\":\"close_modal\"}]}],\"roots\":{\"references\":[{\"attributes\":{\"end\":2021,\"margin\":[5,10,5,10],\"start\":1960,\"title\":\"Year\",\"value\":2000},\"id\":\"1002\",\"type\":\"Slider\"},{\"attributes\":{\"client_comm_id\":\"f9fe5ef0a3f74cdab078421cb3b47598\",\"comm_id\":\"efead6b2092d4bb8963e6b034070290e\",\"plot_id\":\"1002\"},\"id\":\"1003\",\"type\":\"panel.models.comm_manager.CommManager\"},{\"attributes\":{\"reload\":false},\"id\":\"1004\",\"type\":\"panel.models.location.Location\"}],\"root_ids\":[\"1002\",\"1003\",\"1004\"]},\"title\":\"Bokeh Application\",\"version\":\"2.4.3\"}};\n",
       "    var render_items = [{\"docid\":\"733ff9f4-fa9c-4e9c-8fc5-e87a37f086ac\",\"root_ids\":[\"1002\"],\"roots\":{\"1002\":\"433a5a77-7537-499c-8544-20af8e5113ae\"}}];\n",
       "    root.Bokeh.embed.embed_items_notebook(docs_json, render_items);\n",
       "  }\n",
       "  if (root.Bokeh !== undefined && root.Bokeh.Panel !== undefined && ( root['Tabulator'] !== undefined)) {\n",
       "    embed_document(root);\n",
       "  } else {\n",
       "    var attempts = 0;\n",
       "    var timer = setInterval(function(root) {\n",
       "      if (root.Bokeh !== undefined && root.Bokeh.Panel !== undefined && (root['Tabulator'] !== undefined)) {\n",
       "        clearInterval(timer);\n",
       "        embed_document(root);\n",
       "      } else if (document.readyState == \"complete\") {\n",
       "        attempts++;\n",
       "        if (attempts > 200) {\n",
       "          clearInterval(timer);\n",
       "          console.log(\"Bokeh: ERROR: Unable to run BokehJS code because BokehJS library is missing\");\n",
       "        }\n",
       "      }\n",
       "    }, 25, root)\n",
       "  }\n",
       "})(window);</script>"
      ],
      "text/plain": [
       "IntSlider(end=2021, name='Year', start=1960, value=2000)"
      ]
     },
     "execution_count": 6,
     "metadata": {
      "application/vnd.holoviews_exec.v0+json": {
       "id": "1002"
      }
     },
     "output_type": "execute_result"
    }
   ],
   "source": [
    "year_slider = pn.widgets.IntSlider(name='Year', start=1960, end=2021, step=1, value=2000)\n",
    "\n",
    "year_slider"
   ]
  },
  {
   "cell_type": "markdown",
   "id": "aff9c5d1-8b35-4689-a3f7-339d67b9d887",
   "metadata": {},
   "source": [
    "The second widget I have is a Select widget which allows selecting a value from a list of options by selecting it from a dropdown menu. "
   ]
  },
  {
   "cell_type": "code",
   "execution_count": 7,
   "id": "6cde7b7a",
   "metadata": {},
   "outputs": [
    {
     "data": {},
     "metadata": {},
     "output_type": "display_data"
    },
    {
     "data": {
      "application/vnd.holoviews_exec.v0+json": "",
      "text/html": [
       "<div id='1005'>\n",
       "  <div class=\"bk-root\" id=\"84277b69-8754-4b5f-b815-81d17decc7a6\" data-root-id=\"1005\"></div>\n",
       "</div>\n",
       "<script type=\"application/javascript\">(function(root) {\n",
       "  function embed_document(root) {\n",
       "    var docs_json = {\"c2e6e99e-6c28-4440-9106-28a50509a6ec\":{\"defs\":[{\"extends\":null,\"module\":null,\"name\":\"ReactiveHTML1\",\"overrides\":[],\"properties\":[]},{\"extends\":null,\"module\":null,\"name\":\"FlexBox1\",\"overrides\":[],\"properties\":[{\"default\":\"flex-start\",\"kind\":null,\"name\":\"align_content\"},{\"default\":\"flex-start\",\"kind\":null,\"name\":\"align_items\"},{\"default\":\"row\",\"kind\":null,\"name\":\"flex_direction\"},{\"default\":\"wrap\",\"kind\":null,\"name\":\"flex_wrap\"},{\"default\":\"flex-start\",\"kind\":null,\"name\":\"justify_content\"}]},{\"extends\":null,\"module\":null,\"name\":\"GridStack1\",\"overrides\":[],\"properties\":[{\"default\":\"warn\",\"kind\":null,\"name\":\"mode\"},{\"default\":null,\"kind\":null,\"name\":\"ncols\"},{\"default\":null,\"kind\":null,\"name\":\"nrows\"},{\"default\":true,\"kind\":null,\"name\":\"allow_resize\"},{\"default\":true,\"kind\":null,\"name\":\"allow_drag\"},{\"default\":[],\"kind\":null,\"name\":\"state\"}]},{\"extends\":null,\"module\":null,\"name\":\"click1\",\"overrides\":[],\"properties\":[{\"default\":\"\",\"kind\":null,\"name\":\"terminal_output\"},{\"default\":\"\",\"kind\":null,\"name\":\"debug_name\"},{\"default\":0,\"kind\":null,\"name\":\"clears\"}]},{\"extends\":null,\"module\":null,\"name\":\"NotificationAreaBase1\",\"overrides\":[],\"properties\":[{\"default\":\"bottom-right\",\"kind\":null,\"name\":\"position\"},{\"default\":0,\"kind\":null,\"name\":\"_clear\"}]},{\"extends\":null,\"module\":null,\"name\":\"NotificationArea1\",\"overrides\":[],\"properties\":[{\"default\":[],\"kind\":null,\"name\":\"notifications\"},{\"default\":\"bottom-right\",\"kind\":null,\"name\":\"position\"},{\"default\":0,\"kind\":null,\"name\":\"_clear\"},{\"default\":[{\"background\":\"#ffc107\",\"icon\":{\"className\":\"fas fa-exclamation-triangle\",\"color\":\"white\",\"tagName\":\"i\"},\"type\":\"warning\"},{\"background\":\"#007bff\",\"icon\":{\"className\":\"fas fa-info-circle\",\"color\":\"white\",\"tagName\":\"i\"},\"type\":\"info\"}],\"kind\":null,\"name\":\"types\"}]},{\"extends\":null,\"module\":null,\"name\":\"Notification\",\"overrides\":[],\"properties\":[{\"default\":null,\"kind\":null,\"name\":\"background\"},{\"default\":3000,\"kind\":null,\"name\":\"duration\"},{\"default\":null,\"kind\":null,\"name\":\"icon\"},{\"default\":\"\",\"kind\":null,\"name\":\"message\"},{\"default\":null,\"kind\":null,\"name\":\"notification_type\"},{\"default\":false,\"kind\":null,\"name\":\"_destroyed\"}]},{\"extends\":null,\"module\":null,\"name\":\"TemplateActions1\",\"overrides\":[],\"properties\":[{\"default\":0,\"kind\":null,\"name\":\"open_modal\"},{\"default\":0,\"kind\":null,\"name\":\"close_modal\"}]},{\"extends\":null,\"module\":null,\"name\":\"MaterialTemplateActions1\",\"overrides\":[],\"properties\":[{\"default\":0,\"kind\":null,\"name\":\"open_modal\"},{\"default\":0,\"kind\":null,\"name\":\"close_modal\"}]}],\"roots\":{\"references\":[{\"attributes\":{\"margin\":[5,10,5,10],\"options\":[\"Afghanistan\",\"Albania\",\"Algeria\",\"American Samoa\",\"Andorra\",\"Angola\",\"Antigua and Barbuda\",\"Argentina\",\"Armenia\",\"Aruba\",\"Australia\",\"Austria\",\"Azerbaijan\",\"Bahamas, The\",\"Bahrain\",\"Bangladesh\",\"Barbados\",\"Belarus\",\"Belgium\",\"Belize\",\"Benin\",\"Bermuda\",\"Bhutan\",\"Bolivia\",\"Bosnia and Herzegovina\",\"Botswana\",\"Brazil\",\"British Virgin Islands\",\"Brunei Darussalam\",\"Bulgaria\",\"Burkina Faso\",\"Burundi\",\"Cabo Verde\",\"Cambodia\",\"Cameroon\",\"Canada\",\"Caribbean small states\",\"Cayman Islands\",\"Central African Republic\",\"Chad\",\"Channel Islands\",\"Chile\",\"China\",\"Colombia\",\"Comoros\",\"Congo, Dem. Rep.\",\"Congo, Rep.\",\"Costa Rica\",\"Cote d'Ivoire\",\"Croatia\",\"Cuba\",\"Curacao\",\"Cyprus\",\"Czech Republic\",\"Denmark\",\"Djibouti\",\"Dominica\",\"Dominican Republic\",\"Ecuador\",\"Egypt, Arab Rep.\",\"El Salvador\",\"Equatorial Guinea\",\"Estonia\",\"Eswatini\",\"Ethiopia\",\"Faroe Islands\",\"Fiji\",\"Finland\",\"France\",\"French Polynesia\",\"Gabon\",\"Gambia, The\",\"Georgia\",\"Germany\",\"Ghana\",\"Gibraltar\",\"Greece\",\"Greenland\",\"Grenada\",\"Guam\",\"Guatemala\",\"Guinea\",\"Guinea-Bissau\",\"Guyana\",\"Haiti\",\"Honduras\",\"Hong Kong SAR, China\",\"Hungary\",\"Iceland\",\"India\",\"Indonesia\",\"Iran, Islamic Rep.\",\"Iraq\",\"Ireland\",\"Isle of Man\",\"Israel\",\"Italy\",\"Jamaica\",\"Japan\",\"Jordan\",\"Kazakhstan\",\"Kenya\",\"Kiribati\",\"Korea, Dem. People's Rep.\",\"Korea, Rep.\",\"Kosovo\",\"Kuwait\",\"Kyrgyz Republic\",\"Lao PDR\",\"Latvia\",\"Lebanon\",\"Lesotho\",\"Liberia\",\"Libya\",\"Liechtenstein\",\"Lithuania\",\"Luxembourg\",\"Macao SAR, China\",\"Madagascar\",\"Malawi\",\"Malaysia\",\"Maldives\",\"Mali\",\"Malta\",\"Marshall Islands\",\"Mauritania\",\"Mauritius\",\"Mexico\",\"Micronesia, Fed. Sts.\",\"Moldova\",\"Monaco\",\"Mongolia\",\"Montenegro\",\"Morocco\",\"Mozambique\",\"Myanmar\",\"Namibia\",\"Nauru\",\"Nepal\",\"Netherlands\",\"New Caledonia\",\"New Zealand\",\"Nicaragua\",\"Niger\",\"Nigeria\",\"North Macedonia\",\"Northern Mariana Islands\",\"Norway\",\"Oman\",\"Pacific island small states\",\"Pakistan\",\"Palau\",\"Panama\",\"Papua New Guinea\",\"Paraguay\",\"Peru\",\"Philippines\",\"Poland\",\"Portugal\",\"Puerto Rico\",\"Qatar\",\"Romania\",\"Russian Federation\",\"Rwanda\",\"Samoa\",\"San Marino\",\"Sao Tome and Principe\",\"Saudi Arabia\",\"Senegal\",\"Serbia\",\"Seychelles\",\"Sierra Leone\",\"Singapore\",\"Sint Maarten (Dutch part)\",\"Slovak Republic\",\"Slovenia\",\"Small states\",\"Solomon Islands\",\"Somalia\",\"South Africa\",\"South Sudan\",\"Spain\",\"Sri Lanka\",\"St. Kitts and Nevis\",\"St. Lucia\",\"St. Martin (French part)\",\"St. Vincent and the Grenadines\",\"Sudan\",\"Suriname\",\"Sweden\",\"Switzerland\",\"Syrian Arab Republic\",\"Tajikistan\",\"Tanzania\",\"Thailand\",\"Timor-Leste\",\"Togo\",\"Tonga\",\"Trinidad and Tobago\",\"Tunisia\",\"Turkiye\",\"Turkmenistan\",\"Turks and Caicos Islands\",\"Tuvalu\",\"Uganda\",\"Ukraine\",\"United Arab Emirates\",\"United Kingdom\",\"United States\",\"Uruguay\",\"Uzbekistan\",\"Vanuatu\",\"Venezuela, RB\",\"Vietnam\",\"Virgin Islands (U.S.)\",\"West Bank and Gaza\",\"Yemen, Rep.\",\"Zambia\",\"Zimbabwe\"],\"title\":\"Country\",\"value\":\"Afghanistan\"},\"id\":\"1005\",\"type\":\"panel.models.widgets.CustomSelect\"},{\"attributes\":{\"client_comm_id\":\"1fbf723cc4204452b65a93d251210699\",\"comm_id\":\"0cf389993a0d4c0e90d1016ac065200c\",\"plot_id\":\"1005\"},\"id\":\"1006\",\"type\":\"panel.models.comm_manager.CommManager\"}],\"root_ids\":[\"1005\",\"1006\"]},\"title\":\"Bokeh Application\",\"version\":\"2.4.3\"}};\n",
       "    var render_items = [{\"docid\":\"c2e6e99e-6c28-4440-9106-28a50509a6ec\",\"root_ids\":[\"1005\"],\"roots\":{\"1005\":\"84277b69-8754-4b5f-b815-81d17decc7a6\"}}];\n",
       "    root.Bokeh.embed.embed_items_notebook(docs_json, render_items);\n",
       "  }\n",
       "  if (root.Bokeh !== undefined && root.Bokeh.Panel !== undefined && ( root['Tabulator'] !== undefined)) {\n",
       "    embed_document(root);\n",
       "  } else {\n",
       "    var attempts = 0;\n",
       "    var timer = setInterval(function(root) {\n",
       "      if (root.Bokeh !== undefined && root.Bokeh.Panel !== undefined && (root['Tabulator'] !== undefined)) {\n",
       "        clearInterval(timer);\n",
       "        embed_document(root);\n",
       "      } else if (document.readyState == \"complete\") {\n",
       "        attempts++;\n",
       "        if (attempts > 200) {\n",
       "          clearInterval(timer);\n",
       "          console.log(\"Bokeh: ERROR: Unable to run BokehJS code because BokehJS library is missing\");\n",
       "        }\n",
       "      }\n",
       "    }, 25, root)\n",
       "  }\n",
       "})(window);</script>"
      ],
      "text/plain": [
       "Select(name='Country', options=['Afghanistan', ...], value='Afghanistan')"
      ]
     },
     "execution_count": 7,
     "metadata": {
      "application/vnd.holoviews_exec.v0+json": {
       "id": "1005"
      }
     },
     "output_type": "execute_result"
    }
   ],
   "source": [
    "country_select = pn.widgets.Select(name='Country', options= countries)\n",
    "\n",
    "country_select"
   ]
  },
  {
   "cell_type": "markdown",
   "id": "c920afe6-2f61-4c6e-8314-97d8a1f907ca",
   "metadata": {},
   "source": [
    "# Create pipelines\n",
    "The first pipeline simply connects the select widget to the column 'Country Name'. In that way, it returns the population of selected country in all available years. "
   ]
  },
  {
   "cell_type": "code",
   "execution_count": 8,
   "id": "2f16b668",
   "metadata": {},
   "outputs": [
    {
     "data": {},
     "metadata": {},
     "output_type": "display_data"
    },
    {
     "data": {
      "application/vnd.holoviews_exec.v0+json": "",
      "text/html": [
       "<div id='1007'>\n",
       "  <div class=\"bk-root\" id=\"55c9757d-96b0-4dc7-870d-5ec601e68f5d\" data-root-id=\"1007\"></div>\n",
       "</div>\n",
       "<script type=\"application/javascript\">(function(root) {\n",
       "  function embed_document(root) {\n",
       "    var docs_json = {\"17fa3d23-86fb-4742-a2a9-b2e28aec59c6\":{\"defs\":[{\"extends\":null,\"module\":null,\"name\":\"ReactiveHTML1\",\"overrides\":[],\"properties\":[]},{\"extends\":null,\"module\":null,\"name\":\"FlexBox1\",\"overrides\":[],\"properties\":[{\"default\":\"flex-start\",\"kind\":null,\"name\":\"align_content\"},{\"default\":\"flex-start\",\"kind\":null,\"name\":\"align_items\"},{\"default\":\"row\",\"kind\":null,\"name\":\"flex_direction\"},{\"default\":\"wrap\",\"kind\":null,\"name\":\"flex_wrap\"},{\"default\":\"flex-start\",\"kind\":null,\"name\":\"justify_content\"}]},{\"extends\":null,\"module\":null,\"name\":\"GridStack1\",\"overrides\":[],\"properties\":[{\"default\":\"warn\",\"kind\":null,\"name\":\"mode\"},{\"default\":null,\"kind\":null,\"name\":\"ncols\"},{\"default\":null,\"kind\":null,\"name\":\"nrows\"},{\"default\":true,\"kind\":null,\"name\":\"allow_resize\"},{\"default\":true,\"kind\":null,\"name\":\"allow_drag\"},{\"default\":[],\"kind\":null,\"name\":\"state\"}]},{\"extends\":null,\"module\":null,\"name\":\"click1\",\"overrides\":[],\"properties\":[{\"default\":\"\",\"kind\":null,\"name\":\"terminal_output\"},{\"default\":\"\",\"kind\":null,\"name\":\"debug_name\"},{\"default\":0,\"kind\":null,\"name\":\"clears\"}]},{\"extends\":null,\"module\":null,\"name\":\"NotificationAreaBase1\",\"overrides\":[],\"properties\":[{\"default\":\"bottom-right\",\"kind\":null,\"name\":\"position\"},{\"default\":0,\"kind\":null,\"name\":\"_clear\"}]},{\"extends\":null,\"module\":null,\"name\":\"NotificationArea1\",\"overrides\":[],\"properties\":[{\"default\":[],\"kind\":null,\"name\":\"notifications\"},{\"default\":\"bottom-right\",\"kind\":null,\"name\":\"position\"},{\"default\":0,\"kind\":null,\"name\":\"_clear\"},{\"default\":[{\"background\":\"#ffc107\",\"icon\":{\"className\":\"fas fa-exclamation-triangle\",\"color\":\"white\",\"tagName\":\"i\"},\"type\":\"warning\"},{\"background\":\"#007bff\",\"icon\":{\"className\":\"fas fa-info-circle\",\"color\":\"white\",\"tagName\":\"i\"},\"type\":\"info\"}],\"kind\":null,\"name\":\"types\"}]},{\"extends\":null,\"module\":null,\"name\":\"Notification\",\"overrides\":[],\"properties\":[{\"default\":null,\"kind\":null,\"name\":\"background\"},{\"default\":3000,\"kind\":null,\"name\":\"duration\"},{\"default\":null,\"kind\":null,\"name\":\"icon\"},{\"default\":\"\",\"kind\":null,\"name\":\"message\"},{\"default\":null,\"kind\":null,\"name\":\"notification_type\"},{\"default\":false,\"kind\":null,\"name\":\"_destroyed\"}]},{\"extends\":null,\"module\":null,\"name\":\"TemplateActions1\",\"overrides\":[],\"properties\":[{\"default\":0,\"kind\":null,\"name\":\"open_modal\"},{\"default\":0,\"kind\":null,\"name\":\"close_modal\"}]},{\"extends\":null,\"module\":null,\"name\":\"MaterialTemplateActions1\",\"overrides\":[],\"properties\":[{\"default\":0,\"kind\":null,\"name\":\"open_modal\"},{\"default\":0,\"kind\":null,\"name\":\"close_modal\"}]}],\"roots\":{\"references\":[{\"attributes\":{\"children\":[{\"id\":\"1014\"}],\"margin\":[0,0,0,0],\"name\":\"Row01173\"},\"id\":\"1013\",\"type\":\"Row\"},{\"attributes\":{\"children\":[{\"id\":\"1010\"},{\"id\":\"1012\"}],\"margin\":[0,0,0,0],\"name\":\"Row01190\"},\"id\":\"1009\",\"type\":\"Row\"},{\"attributes\":{\"margin\":[5,5,5,5],\"name\":\"HSpacer01189\",\"sizing_mode\":\"stretch_width\"},\"id\":\"1012\",\"type\":\"Spacer\"},{\"attributes\":{\"children\":[{\"id\":\"1009\"},{\"id\":\"1013\"}],\"margin\":[0,0,0,0],\"name\":\"Column01191\"},\"id\":\"1008\",\"type\":\"Column\"},{\"attributes\":{\"children\":[{\"id\":\"1011\"}],\"margin\":[0,0,0,0],\"name\":\"Column01168\"},\"id\":\"1010\",\"type\":\"Column\"},{\"attributes\":{\"children\":[{\"id\":\"1008\"}],\"margin\":[0,0,0,0],\"name\":\"Row01192\"},\"id\":\"1007\",\"type\":\"Row\"},{\"attributes\":{\"margin\":[5,10,5,10],\"options\":[\"Afghanistan\",\"Albania\",\"Algeria\",\"American Samoa\",\"Andorra\",\"Angola\",\"Antigua and Barbuda\",\"Argentina\",\"Armenia\",\"Aruba\",\"Australia\",\"Austria\",\"Azerbaijan\",\"Bahamas, The\",\"Bahrain\",\"Bangladesh\",\"Barbados\",\"Belarus\",\"Belgium\",\"Belize\",\"Benin\",\"Bermuda\",\"Bhutan\",\"Bolivia\",\"Bosnia and Herzegovina\",\"Botswana\",\"Brazil\",\"British Virgin Islands\",\"Brunei Darussalam\",\"Bulgaria\",\"Burkina Faso\",\"Burundi\",\"Cabo Verde\",\"Cambodia\",\"Cameroon\",\"Canada\",\"Caribbean small states\",\"Cayman Islands\",\"Central African Republic\",\"Chad\",\"Channel Islands\",\"Chile\",\"China\",\"Colombia\",\"Comoros\",\"Congo, Dem. Rep.\",\"Congo, Rep.\",\"Costa Rica\",\"Cote d'Ivoire\",\"Croatia\",\"Cuba\",\"Curacao\",\"Cyprus\",\"Czech Republic\",\"Denmark\",\"Djibouti\",\"Dominica\",\"Dominican Republic\",\"Ecuador\",\"Egypt, Arab Rep.\",\"El Salvador\",\"Equatorial Guinea\",\"Estonia\",\"Eswatini\",\"Ethiopia\",\"Faroe Islands\",\"Fiji\",\"Finland\",\"France\",\"French Polynesia\",\"Gabon\",\"Gambia, The\",\"Georgia\",\"Germany\",\"Ghana\",\"Gibraltar\",\"Greece\",\"Greenland\",\"Grenada\",\"Guam\",\"Guatemala\",\"Guinea\",\"Guinea-Bissau\",\"Guyana\",\"Haiti\",\"Honduras\",\"Hong Kong SAR, China\",\"Hungary\",\"Iceland\",\"India\",\"Indonesia\",\"Iran, Islamic Rep.\",\"Iraq\",\"Ireland\",\"Isle of Man\",\"Israel\",\"Italy\",\"Jamaica\",\"Japan\",\"Jordan\",\"Kazakhstan\",\"Kenya\",\"Kiribati\",\"Korea, Dem. People's Rep.\",\"Korea, Rep.\",\"Kosovo\",\"Kuwait\",\"Kyrgyz Republic\",\"Lao PDR\",\"Latvia\",\"Lebanon\",\"Lesotho\",\"Liberia\",\"Libya\",\"Liechtenstein\",\"Lithuania\",\"Luxembourg\",\"Macao SAR, China\",\"Madagascar\",\"Malawi\",\"Malaysia\",\"Maldives\",\"Mali\",\"Malta\",\"Marshall Islands\",\"Mauritania\",\"Mauritius\",\"Mexico\",\"Micronesia, Fed. Sts.\",\"Moldova\",\"Monaco\",\"Mongolia\",\"Montenegro\",\"Morocco\",\"Mozambique\",\"Myanmar\",\"Namibia\",\"Nauru\",\"Nepal\",\"Netherlands\",\"New Caledonia\",\"New Zealand\",\"Nicaragua\",\"Niger\",\"Nigeria\",\"North Macedonia\",\"Northern Mariana Islands\",\"Norway\",\"Oman\",\"Pacific island small states\",\"Pakistan\",\"Palau\",\"Panama\",\"Papua New Guinea\",\"Paraguay\",\"Peru\",\"Philippines\",\"Poland\",\"Portugal\",\"Puerto Rico\",\"Qatar\",\"Romania\",\"Russian Federation\",\"Rwanda\",\"Samoa\",\"San Marino\",\"Sao Tome and Principe\",\"Saudi Arabia\",\"Senegal\",\"Serbia\",\"Seychelles\",\"Sierra Leone\",\"Singapore\",\"Sint Maarten (Dutch part)\",\"Slovak Republic\",\"Slovenia\",\"Small states\",\"Solomon Islands\",\"Somalia\",\"South Africa\",\"South Sudan\",\"Spain\",\"Sri Lanka\",\"St. Kitts and Nevis\",\"St. Lucia\",\"St. Martin (French part)\",\"St. Vincent and the Grenadines\",\"Sudan\",\"Suriname\",\"Sweden\",\"Switzerland\",\"Syrian Arab Republic\",\"Tajikistan\",\"Tanzania\",\"Thailand\",\"Timor-Leste\",\"Togo\",\"Tonga\",\"Trinidad and Tobago\",\"Tunisia\",\"Turkiye\",\"Turkmenistan\",\"Turks and Caicos Islands\",\"Tuvalu\",\"Uganda\",\"Ukraine\",\"United Arab Emirates\",\"United Kingdom\",\"United States\",\"Uruguay\",\"Uzbekistan\",\"Vanuatu\",\"Venezuela, RB\",\"Vietnam\",\"Virgin Islands (U.S.)\",\"West Bank and Gaza\",\"Yemen, Rep.\",\"Zambia\",\"Zimbabwe\"],\"title\":\"Country\",\"value\":\"Afghanistan\"},\"id\":\"1011\",\"type\":\"panel.models.widgets.CustomSelect\"},{\"attributes\":{\"margin\":[5,5,5,5],\"name\":\"DataFrame01187\",\"text\":\"&lt;table border=&quot;0&quot; class=&quot;dataframe panel-df&quot;&gt;\\n  &lt;thead&gt;\\n    &lt;tr style=&quot;text-align: right;&quot;&gt;\\n      &lt;th&gt;&lt;/th&gt;\\n      &lt;th&gt;Country Name&lt;/th&gt;\\n      &lt;th&gt;Year&lt;/th&gt;\\n      &lt;th&gt;Population&lt;/th&gt;\\n    &lt;/tr&gt;\\n  &lt;/thead&gt;\\n  &lt;tbody&gt;\\n    &lt;tr&gt;\\n      &lt;th&gt;0&lt;/th&gt;\\n      &lt;td&gt;Afghanistan&lt;/td&gt;\\n      &lt;td&gt;1960&lt;/td&gt;\\n      &lt;td&gt;8996967.0&lt;/td&gt;\\n    &lt;/tr&gt;\\n    &lt;tr&gt;\\n      &lt;th&gt;1&lt;/th&gt;\\n      &lt;td&gt;Afghanistan&lt;/td&gt;\\n      &lt;td&gt;1961&lt;/td&gt;\\n      &lt;td&gt;9169406.0&lt;/td&gt;\\n    &lt;/tr&gt;\\n    &lt;tr&gt;\\n      &lt;th&gt;2&lt;/th&gt;\\n      &lt;td&gt;Afghanistan&lt;/td&gt;\\n      &lt;td&gt;1962&lt;/td&gt;\\n      &lt;td&gt;9351442.0&lt;/td&gt;\\n    &lt;/tr&gt;\\n    &lt;tr&gt;\\n      &lt;th&gt;3&lt;/th&gt;\\n      &lt;td&gt;Afghanistan&lt;/td&gt;\\n      &lt;td&gt;1963&lt;/td&gt;\\n      &lt;td&gt;9543200.0&lt;/td&gt;\\n    &lt;/tr&gt;\\n    &lt;tr&gt;\\n      &lt;th&gt;4&lt;/th&gt;\\n      &lt;td&gt;Afghanistan&lt;/td&gt;\\n      &lt;td&gt;1964&lt;/td&gt;\\n      &lt;td&gt;9744772.0&lt;/td&gt;\\n    &lt;/tr&gt;\\n  &lt;/tbody&gt;\\n&lt;/table&gt;\"},\"id\":\"1014\",\"type\":\"panel.models.markup.HTML\"},{\"attributes\":{\"client_comm_id\":\"771224ab464943db8ae607578ee79cea\",\"comm_id\":\"99635cf02eae4fcc94a30a0d47c26fa8\",\"plot_id\":\"1007\"},\"id\":\"1015\",\"type\":\"panel.models.comm_manager.CommManager\"}],\"root_ids\":[\"1007\",\"1015\"]},\"title\":\"Bokeh Application\",\"version\":\"2.4.3\"}};\n",
       "    var render_items = [{\"docid\":\"17fa3d23-86fb-4742-a2a9-b2e28aec59c6\",\"root_ids\":[\"1007\"],\"roots\":{\"1007\":\"55c9757d-96b0-4dc7-870d-5ec601e68f5d\"}}];\n",
       "    root.Bokeh.embed.embed_items_notebook(docs_json, render_items);\n",
       "  }\n",
       "  if (root.Bokeh !== undefined && root.Bokeh.Panel !== undefined && ( root['Tabulator'] !== undefined)) {\n",
       "    embed_document(root);\n",
       "  } else {\n",
       "    var attempts = 0;\n",
       "    var timer = setInterval(function(root) {\n",
       "      if (root.Bokeh !== undefined && root.Bokeh.Panel !== undefined && (root['Tabulator'] !== undefined)) {\n",
       "        clearInterval(timer);\n",
       "        embed_document(root);\n",
       "      } else if (document.readyState == \"complete\") {\n",
       "        attempts++;\n",
       "        if (attempts > 200) {\n",
       "          clearInterval(timer);\n",
       "          console.log(\"Bokeh: ERROR: Unable to run BokehJS code because BokehJS library is missing\");\n",
       "        }\n",
       "      }\n",
       "    }, 25, root)\n",
       "  }\n",
       "})(window);</script>"
      ],
      "text/plain": [
       "<hvplot.interactive.Interactive at 0x282d06cb548>"
      ]
     },
     "execution_count": 8,
     "metadata": {
      "application/vnd.holoviews_exec.v0+json": {
       "id": "1007"
      }
     },
     "output_type": "execute_result"
    }
   ],
   "source": [
    "ipipeline = (\n",
    "    idf[\n",
    "        (idf['Country Name'] == country_select)\n",
    "    ]\n",
    "    .groupby(['Country Name', 'Year'])['Population'].mean()\n",
    "    .to_frame()\n",
    "    .reset_index()\n",
    "    .sort_values(by='Year')  \n",
    "    .reset_index(drop=True)\n",
    ")\n",
    "\n",
    "ipipeline.head()"
   ]
  },
  {
   "cell_type": "markdown",
   "id": "9cedfedc-25fe-419b-974e-04c31476180d",
   "metadata": {},
   "source": [
    "We then turn the pipeline to a table for better visualization. We can define number of entres we want to disply each page, so we won't have a huge list on our panel."
   ]
  },
  {
   "cell_type": "code",
   "execution_count": 10,
   "id": "8df8f1d6-32a2-4c4d-ae45-4a23ef1f7fbb",
   "metadata": {},
   "outputs": [
    {
     "data": {},
     "metadata": {},
     "output_type": "display_data"
    },
    {
     "data": {
      "application/vnd.holoviews_exec.v0+json": "",
      "text/html": [
       "<div id='1016'>\n",
       "  <div class=\"bk-root\" id=\"66c44803-8746-470f-9ff2-c8d437ece688\" data-root-id=\"1016\"></div>\n",
       "</div>\n",
       "<script type=\"application/javascript\">(function(root) {\n",
       "  function embed_document(root) {\n",
       "    var docs_json = {\"e6200a94-c76c-4b43-84dd-88c52687f9cc\":{\"defs\":[{\"extends\":null,\"module\":null,\"name\":\"ReactiveHTML1\",\"overrides\":[],\"properties\":[]},{\"extends\":null,\"module\":null,\"name\":\"FlexBox1\",\"overrides\":[],\"properties\":[{\"default\":\"flex-start\",\"kind\":null,\"name\":\"align_content\"},{\"default\":\"flex-start\",\"kind\":null,\"name\":\"align_items\"},{\"default\":\"row\",\"kind\":null,\"name\":\"flex_direction\"},{\"default\":\"wrap\",\"kind\":null,\"name\":\"flex_wrap\"},{\"default\":\"flex-start\",\"kind\":null,\"name\":\"justify_content\"}]},{\"extends\":null,\"module\":null,\"name\":\"GridStack1\",\"overrides\":[],\"properties\":[{\"default\":\"warn\",\"kind\":null,\"name\":\"mode\"},{\"default\":null,\"kind\":null,\"name\":\"ncols\"},{\"default\":null,\"kind\":null,\"name\":\"nrows\"},{\"default\":true,\"kind\":null,\"name\":\"allow_resize\"},{\"default\":true,\"kind\":null,\"name\":\"allow_drag\"},{\"default\":[],\"kind\":null,\"name\":\"state\"}]},{\"extends\":null,\"module\":null,\"name\":\"click1\",\"overrides\":[],\"properties\":[{\"default\":\"\",\"kind\":null,\"name\":\"terminal_output\"},{\"default\":\"\",\"kind\":null,\"name\":\"debug_name\"},{\"default\":0,\"kind\":null,\"name\":\"clears\"}]},{\"extends\":null,\"module\":null,\"name\":\"NotificationAreaBase1\",\"overrides\":[],\"properties\":[{\"default\":\"bottom-right\",\"kind\":null,\"name\":\"position\"},{\"default\":0,\"kind\":null,\"name\":\"_clear\"}]},{\"extends\":null,\"module\":null,\"name\":\"NotificationArea1\",\"overrides\":[],\"properties\":[{\"default\":[],\"kind\":null,\"name\":\"notifications\"},{\"default\":\"bottom-right\",\"kind\":null,\"name\":\"position\"},{\"default\":0,\"kind\":null,\"name\":\"_clear\"},{\"default\":[{\"background\":\"#ffc107\",\"icon\":{\"className\":\"fas fa-exclamation-triangle\",\"color\":\"white\",\"tagName\":\"i\"},\"type\":\"warning\"},{\"background\":\"#007bff\",\"icon\":{\"className\":\"fas fa-info-circle\",\"color\":\"white\",\"tagName\":\"i\"},\"type\":\"info\"}],\"kind\":null,\"name\":\"types\"}]},{\"extends\":null,\"module\":null,\"name\":\"Notification\",\"overrides\":[],\"properties\":[{\"default\":null,\"kind\":null,\"name\":\"background\"},{\"default\":3000,\"kind\":null,\"name\":\"duration\"},{\"default\":null,\"kind\":null,\"name\":\"icon\"},{\"default\":\"\",\"kind\":null,\"name\":\"message\"},{\"default\":null,\"kind\":null,\"name\":\"notification_type\"},{\"default\":false,\"kind\":null,\"name\":\"_destroyed\"}]},{\"extends\":null,\"module\":null,\"name\":\"TemplateActions1\",\"overrides\":[],\"properties\":[{\"default\":0,\"kind\":null,\"name\":\"open_modal\"},{\"default\":0,\"kind\":null,\"name\":\"close_modal\"}]},{\"extends\":null,\"module\":null,\"name\":\"MaterialTemplateActions1\",\"overrides\":[],\"properties\":[{\"default\":0,\"kind\":null,\"name\":\"open_modal\"},{\"default\":0,\"kind\":null,\"name\":\"close_modal\"}]}],\"roots\":{\"references\":[{\"attributes\":{\"columns\":[{\"id\":\"1028\"},{\"id\":\"1033\"},{\"id\":\"1038\"},{\"id\":\"1043\"}],\"configuration\":{\"columns\":[{\"field\":\"index\"},{\"field\":\"Country Name\"},{\"field\":\"Year\"},{\"field\":\"Population\"}],\"dataTree\":false,\"selectable\":true},\"indexes\":[\"index\"],\"layout\":\"fit_data_table\",\"margin\":[5,10,5,10],\"max_page\":7,\"name\":\"\",\"page\":1,\"page_size\":10,\"pagination\":\"remote\",\"select_mode\":true,\"selectable_rows\":null,\"source\":{\"id\":\"1023\"},\"styles\":{\"data\":{},\"id\":\"00466785693e4448851e9e7691f9c73b\"},\"subscribed_events\":[\"table-edit\",\"cell-click\"]},\"id\":\"1046\",\"type\":\"panel.models.tabulator.DataTabulator\"},{\"attributes\":{\"format\":\"0,0.0[00000]\",\"text_align\":\"right\"},\"id\":\"1041\",\"type\":\"NumberFormatter\"},{\"attributes\":{},\"id\":\"1048\",\"type\":\"UnionRenderers\"},{\"attributes\":{},\"id\":\"1037\",\"type\":\"IntEditor\"},{\"attributes\":{\"children\":[{\"id\":\"1019\"},{\"id\":\"1021\"}],\"margin\":[0,0,0,0],\"name\":\"Row01269\"},\"id\":\"1018\",\"type\":\"Row\"},{\"attributes\":{\"editor\":{\"id\":\"1027\"},\"field\":\"index\",\"formatter\":{\"id\":\"1025\"},\"title\":\"index\",\"width\":0},\"id\":\"1028\",\"type\":\"TableColumn\"},{\"attributes\":{\"editor\":{\"id\":\"1037\"},\"field\":\"Year\",\"formatter\":{\"id\":\"1036\"},\"title\":\"Year\",\"width\":0},\"id\":\"1038\",\"type\":\"TableColumn\"},{\"attributes\":{\"children\":[{\"id\":\"1017\"}],\"margin\":[0,0,0,0],\"name\":\"Row01271\"},\"id\":\"1016\",\"type\":\"Row\"},{\"attributes\":{\"children\":[{\"id\":\"1020\"}],\"margin\":[0,0,0,0],\"name\":\"Column01248\"},\"id\":\"1019\",\"type\":\"Column\"},{\"attributes\":{\"text_align\":\"right\"},\"id\":\"1036\",\"type\":\"NumberFormatter\"},{\"attributes\":{},\"id\":\"1027\",\"type\":\"CellEditor\"},{\"attributes\":{\"indices\":[]},\"id\":\"1024\",\"type\":\"Selection\"},{\"attributes\":{\"margin\":[5,5,5,5],\"name\":\"HSpacer01268\",\"sizing_mode\":\"stretch_width\"},\"id\":\"1021\",\"type\":\"Spacer\"},{\"attributes\":{\"children\":[{\"id\":\"1018\"},{\"id\":\"1022\"}],\"margin\":[0,0,0,0],\"name\":\"Column01270\"},\"id\":\"1017\",\"type\":\"Column\"},{\"attributes\":{\"client_comm_id\":\"55127c6116024ca9accc7f1923151391\",\"comm_id\":\"39f12cbfd6a24f0593c0433ee7d245f5\",\"plot_id\":\"1016\"},\"id\":\"1054\",\"type\":\"panel.models.comm_manager.CommManager\"},{\"attributes\":{\"margin\":[5,10,5,10],\"options\":[\"Afghanistan\",\"Albania\",\"Algeria\",\"American Samoa\",\"Andorra\",\"Angola\",\"Antigua and Barbuda\",\"Argentina\",\"Armenia\",\"Aruba\",\"Australia\",\"Austria\",\"Azerbaijan\",\"Bahamas, The\",\"Bahrain\",\"Bangladesh\",\"Barbados\",\"Belarus\",\"Belgium\",\"Belize\",\"Benin\",\"Bermuda\",\"Bhutan\",\"Bolivia\",\"Bosnia and Herzegovina\",\"Botswana\",\"Brazil\",\"British Virgin Islands\",\"Brunei Darussalam\",\"Bulgaria\",\"Burkina Faso\",\"Burundi\",\"Cabo Verde\",\"Cambodia\",\"Cameroon\",\"Canada\",\"Caribbean small states\",\"Cayman Islands\",\"Central African Republic\",\"Chad\",\"Channel Islands\",\"Chile\",\"China\",\"Colombia\",\"Comoros\",\"Congo, Dem. Rep.\",\"Congo, Rep.\",\"Costa Rica\",\"Cote d'Ivoire\",\"Croatia\",\"Cuba\",\"Curacao\",\"Cyprus\",\"Czech Republic\",\"Denmark\",\"Djibouti\",\"Dominica\",\"Dominican Republic\",\"Ecuador\",\"Egypt, Arab Rep.\",\"El Salvador\",\"Equatorial Guinea\",\"Estonia\",\"Eswatini\",\"Ethiopia\",\"Faroe Islands\",\"Fiji\",\"Finland\",\"France\",\"French Polynesia\",\"Gabon\",\"Gambia, The\",\"Georgia\",\"Germany\",\"Ghana\",\"Gibraltar\",\"Greece\",\"Greenland\",\"Grenada\",\"Guam\",\"Guatemala\",\"Guinea\",\"Guinea-Bissau\",\"Guyana\",\"Haiti\",\"Honduras\",\"Hong Kong SAR, China\",\"Hungary\",\"Iceland\",\"India\",\"Indonesia\",\"Iran, Islamic Rep.\",\"Iraq\",\"Ireland\",\"Isle of Man\",\"Israel\",\"Italy\",\"Jamaica\",\"Japan\",\"Jordan\",\"Kazakhstan\",\"Kenya\",\"Kiribati\",\"Korea, Dem. People's Rep.\",\"Korea, Rep.\",\"Kosovo\",\"Kuwait\",\"Kyrgyz Republic\",\"Lao PDR\",\"Latvia\",\"Lebanon\",\"Lesotho\",\"Liberia\",\"Libya\",\"Liechtenstein\",\"Lithuania\",\"Luxembourg\",\"Macao SAR, China\",\"Madagascar\",\"Malawi\",\"Malaysia\",\"Maldives\",\"Mali\",\"Malta\",\"Marshall Islands\",\"Mauritania\",\"Mauritius\",\"Mexico\",\"Micronesia, Fed. Sts.\",\"Moldova\",\"Monaco\",\"Mongolia\",\"Montenegro\",\"Morocco\",\"Mozambique\",\"Myanmar\",\"Namibia\",\"Nauru\",\"Nepal\",\"Netherlands\",\"New Caledonia\",\"New Zealand\",\"Nicaragua\",\"Niger\",\"Nigeria\",\"North Macedonia\",\"Northern Mariana Islands\",\"Norway\",\"Oman\",\"Pacific island small states\",\"Pakistan\",\"Palau\",\"Panama\",\"Papua New Guinea\",\"Paraguay\",\"Peru\",\"Philippines\",\"Poland\",\"Portugal\",\"Puerto Rico\",\"Qatar\",\"Romania\",\"Russian Federation\",\"Rwanda\",\"Samoa\",\"San Marino\",\"Sao Tome and Principe\",\"Saudi Arabia\",\"Senegal\",\"Serbia\",\"Seychelles\",\"Sierra Leone\",\"Singapore\",\"Sint Maarten (Dutch part)\",\"Slovak Republic\",\"Slovenia\",\"Small states\",\"Solomon Islands\",\"Somalia\",\"South Africa\",\"South Sudan\",\"Spain\",\"Sri Lanka\",\"St. Kitts and Nevis\",\"St. Lucia\",\"St. Martin (French part)\",\"St. Vincent and the Grenadines\",\"Sudan\",\"Suriname\",\"Sweden\",\"Switzerland\",\"Syrian Arab Republic\",\"Tajikistan\",\"Tanzania\",\"Thailand\",\"Timor-Leste\",\"Togo\",\"Tonga\",\"Trinidad and Tobago\",\"Tunisia\",\"Turkiye\",\"Turkmenistan\",\"Turks and Caicos Islands\",\"Tuvalu\",\"Uganda\",\"Ukraine\",\"United Arab Emirates\",\"United Kingdom\",\"United States\",\"Uruguay\",\"Uzbekistan\",\"Vanuatu\",\"Venezuela, RB\",\"Vietnam\",\"Virgin Islands (U.S.)\",\"West Bank and Gaza\",\"Yemen, Rep.\",\"Zambia\",\"Zimbabwe\"],\"title\":\"Country\",\"value\":\"Afghanistan\"},\"id\":\"1020\",\"type\":\"panel.models.widgets.CustomSelect\"},{\"attributes\":{\"editor\":{\"id\":\"1042\"},\"field\":\"Population\",\"formatter\":{\"id\":\"1041\"},\"title\":\"Population\",\"width\":0},\"id\":\"1043\",\"type\":\"TableColumn\"},{\"attributes\":{\"text_align\":\"left\"},\"id\":\"1025\",\"type\":\"NumberFormatter\"},{\"attributes\":{},\"id\":\"1032\",\"type\":\"StringEditor\"},{\"attributes\":{\"editor\":{\"id\":\"1032\"},\"field\":\"Country Name\",\"formatter\":{\"id\":\"1031\"},\"title\":\"Country Name\",\"width\":0},\"id\":\"1033\",\"type\":\"TableColumn\"},{\"attributes\":{},\"id\":\"1042\",\"type\":\"NumberEditor\"},{\"attributes\":{\"children\":[{\"id\":\"1046\"}],\"margin\":[0,0,0,0],\"name\":\"Row01253\"},\"id\":\"1022\",\"type\":\"Row\"},{\"attributes\":{},\"id\":\"1031\",\"type\":\"StringFormatter\"},{\"attributes\":{\"data\":{\"Country Name\":[\"Afghanistan\",\"Afghanistan\",\"Afghanistan\",\"Afghanistan\",\"Afghanistan\",\"Afghanistan\",\"Afghanistan\",\"Afghanistan\",\"Afghanistan\",\"Afghanistan\"],\"Population\":{\"__ndarray__\":\"AAAA4AwpYUEAAADAP31hQQAAAEAi1mFBAAAAAMQzYkEAAACAMJZiQQAAAMB7/WJBAAAAAC9oY0EAAAAAGNZjQQAAAADhSWRBAAAAgDnHZEE=\",\"dtype\":\"float64\",\"order\":\"little\",\"shape\":[10]},\"Year\":[1960,1961,1962,1963,1964,1965,1966,1967,1968,1969],\"index\":[0,1,2,3,4,5,6,7,8,9]},\"selected\":{\"id\":\"1024\"},\"selection_policy\":{\"id\":\"1048\"}},\"id\":\"1023\",\"type\":\"ColumnDataSource\"}],\"root_ids\":[\"1016\",\"1054\"]},\"title\":\"Bokeh Application\",\"version\":\"2.4.3\"}};\n",
       "    var render_items = [{\"docid\":\"e6200a94-c76c-4b43-84dd-88c52687f9cc\",\"root_ids\":[\"1016\"],\"roots\":{\"1016\":\"66c44803-8746-470f-9ff2-c8d437ece688\"}}];\n",
       "    root.Bokeh.embed.embed_items_notebook(docs_json, render_items);\n",
       "  }\n",
       "  if (root.Bokeh !== undefined && root.Bokeh.Panel !== undefined && ( root['Tabulator'] !== undefined)) {\n",
       "    embed_document(root);\n",
       "  } else {\n",
       "    var attempts = 0;\n",
       "    var timer = setInterval(function(root) {\n",
       "      if (root.Bokeh !== undefined && root.Bokeh.Panel !== undefined && (root['Tabulator'] !== undefined)) {\n",
       "        clearInterval(timer);\n",
       "        embed_document(root);\n",
       "      } else if (document.readyState == \"complete\") {\n",
       "        attempts++;\n",
       "        if (attempts > 200) {\n",
       "          clearInterval(timer);\n",
       "          console.log(\"Bokeh: ERROR: Unable to run BokehJS code because BokehJS library is missing\");\n",
       "        }\n",
       "      }\n",
       "    }, 25, root)\n",
       "  }\n",
       "})(window);</script>"
      ],
      "text/plain": [
       "<hvplot.interactive.Interactive at 0x282ce24e208>"
      ]
     },
     "execution_count": 10,
     "metadata": {
      "application/vnd.holoviews_exec.v0+json": {
       "id": "1016"
      }
     },
     "output_type": "execute_result"
    }
   ],
   "source": [
    "itable = ipipeline.pipe(pn.widgets.Tabulator, pagination='remote', page_size=10)\n",
    "itable"
   ]
  },
  {
   "cell_type": "markdown",
   "id": "d2203792-7658-4884-9d28-ad5a6aea9561",
   "metadata": {},
   "source": [
    "Same way, we turn the pipeline to a plot which has population as y-axis and year as x-axis, for country selected by the widget."
   ]
  },
  {
   "cell_type": "code",
   "execution_count": 11,
   "id": "8c05b0c2",
   "metadata": {},
   "outputs": [
    {
     "data": {},
     "metadata": {},
     "output_type": "display_data"
    },
    {
     "data": {},
     "metadata": {},
     "output_type": "display_data"
    },
    {
     "data": {
      "application/vnd.holoviews_exec.v0+json": "",
      "text/html": [
       "<div id='1065'>\n",
       "  <div class=\"bk-root\" id=\"1e3a7436-aec6-468e-a7c4-90428db7d108\" data-root-id=\"1065\"></div>\n",
       "</div>\n",
       "<script type=\"application/javascript\">(function(root) {\n",
       "  function embed_document(root) {\n",
       "    var docs_json = {\"3763a8fd-eaea-4238-a854-797f9e6e1494\":{\"defs\":[{\"extends\":null,\"module\":null,\"name\":\"ReactiveHTML1\",\"overrides\":[],\"properties\":[]},{\"extends\":null,\"module\":null,\"name\":\"FlexBox1\",\"overrides\":[],\"properties\":[{\"default\":\"flex-start\",\"kind\":null,\"name\":\"align_content\"},{\"default\":\"flex-start\",\"kind\":null,\"name\":\"align_items\"},{\"default\":\"row\",\"kind\":null,\"name\":\"flex_direction\"},{\"default\":\"wrap\",\"kind\":null,\"name\":\"flex_wrap\"},{\"default\":\"flex-start\",\"kind\":null,\"name\":\"justify_content\"}]},{\"extends\":null,\"module\":null,\"name\":\"GridStack1\",\"overrides\":[],\"properties\":[{\"default\":\"warn\",\"kind\":null,\"name\":\"mode\"},{\"default\":null,\"kind\":null,\"name\":\"ncols\"},{\"default\":null,\"kind\":null,\"name\":\"nrows\"},{\"default\":true,\"kind\":null,\"name\":\"allow_resize\"},{\"default\":true,\"kind\":null,\"name\":\"allow_drag\"},{\"default\":[],\"kind\":null,\"name\":\"state\"}]},{\"extends\":null,\"module\":null,\"name\":\"click1\",\"overrides\":[],\"properties\":[{\"default\":\"\",\"kind\":null,\"name\":\"terminal_output\"},{\"default\":\"\",\"kind\":null,\"name\":\"debug_name\"},{\"default\":0,\"kind\":null,\"name\":\"clears\"}]},{\"extends\":null,\"module\":null,\"name\":\"NotificationAreaBase1\",\"overrides\":[],\"properties\":[{\"default\":\"bottom-right\",\"kind\":null,\"name\":\"position\"},{\"default\":0,\"kind\":null,\"name\":\"_clear\"}]},{\"extends\":null,\"module\":null,\"name\":\"NotificationArea1\",\"overrides\":[],\"properties\":[{\"default\":[],\"kind\":null,\"name\":\"notifications\"},{\"default\":\"bottom-right\",\"kind\":null,\"name\":\"position\"},{\"default\":0,\"kind\":null,\"name\":\"_clear\"},{\"default\":[{\"background\":\"#ffc107\",\"icon\":{\"className\":\"fas fa-exclamation-triangle\",\"color\":\"white\",\"tagName\":\"i\"},\"type\":\"warning\"},{\"background\":\"#007bff\",\"icon\":{\"className\":\"fas fa-info-circle\",\"color\":\"white\",\"tagName\":\"i\"},\"type\":\"info\"}],\"kind\":null,\"name\":\"types\"}]},{\"extends\":null,\"module\":null,\"name\":\"Notification\",\"overrides\":[],\"properties\":[{\"default\":null,\"kind\":null,\"name\":\"background\"},{\"default\":3000,\"kind\":null,\"name\":\"duration\"},{\"default\":null,\"kind\":null,\"name\":\"icon\"},{\"default\":\"\",\"kind\":null,\"name\":\"message\"},{\"default\":null,\"kind\":null,\"name\":\"notification_type\"},{\"default\":false,\"kind\":null,\"name\":\"_destroyed\"}]},{\"extends\":null,\"module\":null,\"name\":\"TemplateActions1\",\"overrides\":[],\"properties\":[{\"default\":0,\"kind\":null,\"name\":\"open_modal\"},{\"default\":0,\"kind\":null,\"name\":\"close_modal\"}]},{\"extends\":null,\"module\":null,\"name\":\"MaterialTemplateActions1\",\"overrides\":[],\"properties\":[{\"default\":0,\"kind\":null,\"name\":\"open_modal\"},{\"default\":0,\"kind\":null,\"name\":\"close_modal\"}]}],\"roots\":{\"references\":[{\"attributes\":{\"axis_label\":\"Year\",\"coordinates\":null,\"formatter\":{\"id\":\"1114\"},\"group\":null,\"major_label_policy\":{\"id\":\"1115\"},\"ticker\":{\"id\":\"1084\"}},\"id\":\"1083\",\"type\":\"LinearAxis\"},{\"attributes\":{\"source\":{\"id\":\"1104\"}},\"id\":\"1111\",\"type\":\"CDSView\"},{\"attributes\":{\"margin\":[5,10,5,10],\"options\":[\"Afghanistan\",\"Albania\",\"Algeria\",\"American Samoa\",\"Andorra\",\"Angola\",\"Antigua and Barbuda\",\"Argentina\",\"Armenia\",\"Aruba\",\"Australia\",\"Austria\",\"Azerbaijan\",\"Bahamas, The\",\"Bahrain\",\"Bangladesh\",\"Barbados\",\"Belarus\",\"Belgium\",\"Belize\",\"Benin\",\"Bermuda\",\"Bhutan\",\"Bolivia\",\"Bosnia and Herzegovina\",\"Botswana\",\"Brazil\",\"British Virgin Islands\",\"Brunei Darussalam\",\"Bulgaria\",\"Burkina Faso\",\"Burundi\",\"Cabo Verde\",\"Cambodia\",\"Cameroon\",\"Canada\",\"Caribbean small states\",\"Cayman Islands\",\"Central African Republic\",\"Chad\",\"Channel Islands\",\"Chile\",\"China\",\"Colombia\",\"Comoros\",\"Congo, Dem. Rep.\",\"Congo, Rep.\",\"Costa Rica\",\"Cote d'Ivoire\",\"Croatia\",\"Cuba\",\"Curacao\",\"Cyprus\",\"Czech Republic\",\"Denmark\",\"Djibouti\",\"Dominica\",\"Dominican Republic\",\"Ecuador\",\"Egypt, Arab Rep.\",\"El Salvador\",\"Equatorial Guinea\",\"Estonia\",\"Eswatini\",\"Ethiopia\",\"Faroe Islands\",\"Fiji\",\"Finland\",\"France\",\"French Polynesia\",\"Gabon\",\"Gambia, The\",\"Georgia\",\"Germany\",\"Ghana\",\"Gibraltar\",\"Greece\",\"Greenland\",\"Grenada\",\"Guam\",\"Guatemala\",\"Guinea\",\"Guinea-Bissau\",\"Guyana\",\"Haiti\",\"Honduras\",\"Hong Kong SAR, China\",\"Hungary\",\"Iceland\",\"India\",\"Indonesia\",\"Iran, Islamic Rep.\",\"Iraq\",\"Ireland\",\"Isle of Man\",\"Israel\",\"Italy\",\"Jamaica\",\"Japan\",\"Jordan\",\"Kazakhstan\",\"Kenya\",\"Kiribati\",\"Korea, Dem. People's Rep.\",\"Korea, Rep.\",\"Kosovo\",\"Kuwait\",\"Kyrgyz Republic\",\"Lao PDR\",\"Latvia\",\"Lebanon\",\"Lesotho\",\"Liberia\",\"Libya\",\"Liechtenstein\",\"Lithuania\",\"Luxembourg\",\"Macao SAR, China\",\"Madagascar\",\"Malawi\",\"Malaysia\",\"Maldives\",\"Mali\",\"Malta\",\"Marshall Islands\",\"Mauritania\",\"Mauritius\",\"Mexico\",\"Micronesia, Fed. Sts.\",\"Moldova\",\"Monaco\",\"Mongolia\",\"Montenegro\",\"Morocco\",\"Mozambique\",\"Myanmar\",\"Namibia\",\"Nauru\",\"Nepal\",\"Netherlands\",\"New Caledonia\",\"New Zealand\",\"Nicaragua\",\"Niger\",\"Nigeria\",\"North Macedonia\",\"Northern Mariana Islands\",\"Norway\",\"Oman\",\"Pacific island small states\",\"Pakistan\",\"Palau\",\"Panama\",\"Papua New Guinea\",\"Paraguay\",\"Peru\",\"Philippines\",\"Poland\",\"Portugal\",\"Puerto Rico\",\"Qatar\",\"Romania\",\"Russian Federation\",\"Rwanda\",\"Samoa\",\"San Marino\",\"Sao Tome and Principe\",\"Saudi Arabia\",\"Senegal\",\"Serbia\",\"Seychelles\",\"Sierra Leone\",\"Singapore\",\"Sint Maarten (Dutch part)\",\"Slovak Republic\",\"Slovenia\",\"Small states\",\"Solomon Islands\",\"Somalia\",\"South Africa\",\"South Sudan\",\"Spain\",\"Sri Lanka\",\"St. Kitts and Nevis\",\"St. Lucia\",\"St. Martin (French part)\",\"St. Vincent and the Grenadines\",\"Sudan\",\"Suriname\",\"Sweden\",\"Switzerland\",\"Syrian Arab Republic\",\"Tajikistan\",\"Tanzania\",\"Thailand\",\"Timor-Leste\",\"Togo\",\"Tonga\",\"Trinidad and Tobago\",\"Tunisia\",\"Turkiye\",\"Turkmenistan\",\"Turks and Caicos Islands\",\"Tuvalu\",\"Uganda\",\"Ukraine\",\"United Arab Emirates\",\"United Kingdom\",\"United States\",\"Uruguay\",\"Uzbekistan\",\"Vanuatu\",\"Venezuela, RB\",\"Vietnam\",\"Virgin Islands (U.S.)\",\"West Bank and Gaza\",\"Yemen, Rep.\",\"Zambia\",\"Zimbabwe\"],\"title\":\"Country\",\"value\":\"Afghanistan\"},\"id\":\"1069\",\"type\":\"panel.models.widgets.CustomSelect\"},{\"attributes\":{},\"id\":\"1081\",\"type\":\"LinearScale\"},{\"attributes\":{\"line_alpha\":0.2,\"line_color\":\"#30a2da\",\"line_width\":2,\"x\":{\"field\":\"Year\"},\"y\":{\"field\":\"Population\"}},\"id\":\"1109\",\"type\":\"Line\"},{\"attributes\":{},\"id\":\"1114\",\"type\":\"BasicTickFormatter\"},{\"attributes\":{\"end\":42919274.1,\"reset_end\":42919274.1,\"reset_start\":5913120.9,\"start\":5913120.9,\"tags\":[[[\"Population\",\"Population\",null]]]},\"id\":\"1072\",\"type\":\"Range1d\"},{\"attributes\":{\"callback\":null,\"renderers\":[{\"id\":\"1110\"}],\"tags\":[\"hv_created\"],\"tooltips\":[[\"Year\",\"@{Year}\"],[\"Population\",\"@{Population}\"]]},\"id\":\"1073\",\"type\":\"HoverTool\"},{\"attributes\":{\"children\":[{\"id\":\"1069\"}],\"margin\":[0,0,0,0],\"name\":\"Column01381\"},\"id\":\"1068\",\"type\":\"Column\"},{\"attributes\":{\"children\":[{\"id\":\"1066\"}],\"margin\":[0,0,0,0],\"name\":\"Row01393\"},\"id\":\"1065\",\"type\":\"Row\"},{\"attributes\":{},\"id\":\"1117\",\"type\":\"BasicTickFormatter\"},{\"attributes\":{\"client_comm_id\":\"191f7e11daf44ae38029287425ece8ed\",\"comm_id\":\"968428b52cb3459bba0dfd4bc29e9b68\",\"plot_id\":\"1065\"},\"id\":\"1159\",\"type\":\"panel.models.comm_manager.CommManager\"},{\"attributes\":{\"children\":[{\"id\":\"1067\"},{\"id\":\"1074\"}],\"margin\":[0,0,0,0],\"name\":\"Column01392\"},\"id\":\"1066\",\"type\":\"Column\"},{\"attributes\":{\"end\":2021.0,\"reset_end\":2021.0,\"reset_start\":1960.0,\"start\":1960.0,\"tags\":[[[\"Year\",\"Year\",null]]]},\"id\":\"1071\",\"type\":\"Range1d\"},{\"attributes\":{},\"id\":\"1091\",\"type\":\"SaveTool\"},{\"attributes\":{},\"id\":\"1092\",\"type\":\"PanTool\"},{\"attributes\":{\"below\":[{\"id\":\"1083\"}],\"center\":[{\"id\":\"1086\"},{\"id\":\"1090\"}],\"height\":300,\"left\":[{\"id\":\"1087\"}],\"margin\":[5,5,5,5],\"min_border_bottom\":10,\"min_border_left\":10,\"min_border_right\":10,\"min_border_top\":10,\"renderers\":[{\"id\":\"1110\"}],\"sizing_mode\":\"fixed\",\"title\":{\"id\":\"1075\"},\"toolbar\":{\"id\":\"1097\"},\"width\":700,\"x_range\":{\"id\":\"1071\"},\"x_scale\":{\"id\":\"1079\"},\"y_range\":{\"id\":\"1072\"},\"y_scale\":{\"id\":\"1081\"}},\"id\":\"1074\",\"subtype\":\"Figure\",\"type\":\"Plot\"},{\"attributes\":{},\"id\":\"1095\",\"type\":\"ResetTool\"},{\"attributes\":{},\"id\":\"1093\",\"type\":\"WheelZoomTool\"},{\"attributes\":{},\"id\":\"1126\",\"type\":\"UnionRenderers\"},{\"attributes\":{\"children\":[{\"id\":\"1068\"},{\"id\":\"1070\"}],\"margin\":[0,0,0,0],\"name\":\"Row01386\"},\"id\":\"1067\",\"type\":\"Row\"},{\"attributes\":{\"overlay\":{\"id\":\"1096\"}},\"id\":\"1094\",\"type\":\"BoxZoomTool\"},{\"attributes\":{\"margin\":[5,5,5,5],\"name\":\"HSpacer01385\",\"sizing_mode\":\"stretch_width\"},\"id\":\"1070\",\"type\":\"Spacer\"},{\"attributes\":{\"tools\":[{\"id\":\"1073\"},{\"id\":\"1091\"},{\"id\":\"1092\"},{\"id\":\"1093\"},{\"id\":\"1094\"},{\"id\":\"1095\"}]},\"id\":\"1097\",\"type\":\"Toolbar\"},{\"attributes\":{\"axis\":{\"id\":\"1083\"},\"coordinates\":null,\"grid_line_color\":null,\"group\":null,\"ticker\":null},\"id\":\"1086\",\"type\":\"Grid\"},{\"attributes\":{\"line_color\":\"#30a2da\",\"line_width\":2,\"x\":{\"field\":\"Year\"},\"y\":{\"field\":\"Population\"}},\"id\":\"1112\",\"type\":\"Line\"},{\"attributes\":{\"axis_label\":\"Population\",\"coordinates\":null,\"formatter\":{\"id\":\"1117\"},\"group\":null,\"major_label_policy\":{\"id\":\"1118\"},\"ticker\":{\"id\":\"1088\"}},\"id\":\"1087\",\"type\":\"LinearAxis\"},{\"attributes\":{},\"id\":\"1079\",\"type\":\"LinearScale\"},{\"attributes\":{},\"id\":\"1115\",\"type\":\"AllLabels\"},{\"attributes\":{},\"id\":\"1118\",\"type\":\"AllLabels\"},{\"attributes\":{},\"id\":\"1084\",\"type\":\"BasicTicker\"},{\"attributes\":{\"coordinates\":null,\"group\":null,\"text\":\"Population (1960 - 2021)\",\"text_color\":\"black\",\"text_font_size\":\"12pt\"},\"id\":\"1075\",\"type\":\"Title\"},{\"attributes\":{},\"id\":\"1105\",\"type\":\"Selection\"},{\"attributes\":{\"data\":{\"Population\":{\"__ndarray__\":\"AAAA4AwpYUEAAADAP31hQQAAAEAi1mFBAAAAAMQzYkEAAACAMJZiQQAAAMB7/WJBAAAAAC9oY0EAAAAAGNZjQQAAAADhSWRBAAAAgDnHZEEAAADA4k9lQQAAAEA/42VBAAAAwG59ZkEAAABglBhnQQAAAAAErWdBAAAAgOEzaEEAAACg3q9oQQAAAMBLH2lBAAAA4EFyaUEAAACAXpRpQQAAAIC6eWlBAAAA4HsfaUEAAADASpJoQQAAAIDw6WdBAAAAQCJHZ0EAAACAM8VmQQAAACCOYmZBAAAAQEciZkEAAAAA2yhmQQAAACBZo2ZBAAAA4LKsZ0EAAAAAqV1pQQAAAOAEoWtBAAAAIPMqbkEAAAAA4UhwQQAAAGCMRXFBAAAAQOT6cUEAAABg3HVyQQAAAKDK0nJBAAAA8IU8c0EAAABQO9FzQQAAAAAlm3RBAAAAYMSNdUEAAABwdpV2QQAAABDKlHdBAAAAIEB3eEEAAAAgYjV5QQAAAOBX2HlBAAAAkCJwekEAAABgUxR7QQAAAHBe1XtBAAAAMOK4fEEAAAAgwrd9QQAAAIBRxn5BAAAAQCvTf0EAAAAY4WiAQQAAAKA334BBAAAAeK1OgUEAAACQlrmBQQAAAOjEI4JBAAAAqP6PgkEAAAAguf6CQQ==\",\"dtype\":\"float64\",\"order\":\"little\",\"shape\":[62]},\"Year\":[1960,1961,1962,1963,1964,1965,1966,1967,1968,1969,1970,1971,1972,1973,1974,1975,1976,1977,1978,1979,1980,1981,1982,1983,1984,1985,1986,1987,1988,1989,1990,1991,1992,1993,1994,1995,1996,1997,1998,1999,2000,2001,2002,2003,2004,2005,2006,2007,2008,2009,2010,2011,2012,2013,2014,2015,2016,2017,2018,2019,2020,2021]},\"selected\":{\"id\":\"1105\"},\"selection_policy\":{\"id\":\"1126\"}},\"id\":\"1104\",\"type\":\"ColumnDataSource\"},{\"attributes\":{},\"id\":\"1088\",\"type\":\"BasicTicker\"},{\"attributes\":{\"coordinates\":null,\"data_source\":{\"id\":\"1104\"},\"glyph\":{\"id\":\"1107\"},\"group\":null,\"hover_glyph\":null,\"muted_glyph\":{\"id\":\"1109\"},\"nonselection_glyph\":{\"id\":\"1108\"},\"selection_glyph\":{\"id\":\"1112\"},\"view\":{\"id\":\"1111\"}},\"id\":\"1110\",\"type\":\"GlyphRenderer\"},{\"attributes\":{\"line_alpha\":0.1,\"line_color\":\"#30a2da\",\"line_width\":2,\"x\":{\"field\":\"Year\"},\"y\":{\"field\":\"Population\"}},\"id\":\"1108\",\"type\":\"Line\"},{\"attributes\":{\"bottom_units\":\"screen\",\"coordinates\":null,\"fill_alpha\":0.5,\"fill_color\":\"lightgrey\",\"group\":null,\"left_units\":\"screen\",\"level\":\"overlay\",\"line_alpha\":1.0,\"line_color\":\"black\",\"line_dash\":[4,4],\"line_width\":2,\"right_units\":\"screen\",\"syncable\":false,\"top_units\":\"screen\"},\"id\":\"1096\",\"type\":\"BoxAnnotation\"},{\"attributes\":{\"axis\":{\"id\":\"1087\"},\"coordinates\":null,\"dimension\":1,\"grid_line_color\":null,\"group\":null,\"ticker\":null},\"id\":\"1090\",\"type\":\"Grid\"},{\"attributes\":{\"line_color\":\"#30a2da\",\"line_width\":2,\"x\":{\"field\":\"Year\"},\"y\":{\"field\":\"Population\"}},\"id\":\"1107\",\"type\":\"Line\"}],\"root_ids\":[\"1065\",\"1159\"]},\"title\":\"Bokeh Application\",\"version\":\"2.4.3\"}};\n",
       "    var render_items = [{\"docid\":\"3763a8fd-eaea-4238-a854-797f9e6e1494\",\"root_ids\":[\"1065\"],\"roots\":{\"1065\":\"1e3a7436-aec6-468e-a7c4-90428db7d108\"}}];\n",
       "    root.Bokeh.embed.embed_items_notebook(docs_json, render_items);\n",
       "  }\n",
       "  if (root.Bokeh !== undefined && root.Bokeh.Panel !== undefined && ( root['Tabulator'] !== undefined)) {\n",
       "    embed_document(root);\n",
       "  } else {\n",
       "    var attempts = 0;\n",
       "    var timer = setInterval(function(root) {\n",
       "      if (root.Bokeh !== undefined && root.Bokeh.Panel !== undefined && (root['Tabulator'] !== undefined)) {\n",
       "        clearInterval(timer);\n",
       "        embed_document(root);\n",
       "      } else if (document.readyState == \"complete\") {\n",
       "        attempts++;\n",
       "        if (attempts > 200) {\n",
       "          clearInterval(timer);\n",
       "          console.log(\"Bokeh: ERROR: Unable to run BokehJS code because BokehJS library is missing\");\n",
       "        }\n",
       "      }\n",
       "    }, 25, root)\n",
       "  }\n",
       "})(window);</script>"
      ],
      "text/plain": [
       "<hvplot.interactive.Interactive at 0x282d0d74d48>"
      ]
     },
     "execution_count": 11,
     "metadata": {
      "application/vnd.holoviews_exec.v0+json": {
       "id": "1065"
      }
     },
     "output_type": "execute_result"
    }
   ],
   "source": [
    "iplot = ipipeline.hvplot(x = 'Year',  y='Population',line_width=2, title=\"Population (1960 - 2021)\")\n",
    "iplot"
   ]
  },
  {
   "cell_type": "markdown",
   "id": "1d98f700-1b41-450a-9dd9-2c5ea73535ce",
   "metadata": {},
   "source": [
    "Second pipeline I have is connected to the year slider. It returns 10 countries with highest population for the year selected by year slider."
   ]
  },
  {
   "cell_type": "code",
   "execution_count": 12,
   "id": "36e41edf",
   "metadata": {},
   "outputs": [
    {
     "data": {},
     "metadata": {},
     "output_type": "display_data"
    },
    {
     "data": {
      "application/vnd.holoviews_exec.v0+json": "",
      "text/html": [
       "<div id='1210'>\n",
       "  <div class=\"bk-root\" id=\"8b2d586e-5b8a-42c0-aa35-682b4c121bf9\" data-root-id=\"1210\"></div>\n",
       "</div>\n",
       "<script type=\"application/javascript\">(function(root) {\n",
       "  function embed_document(root) {\n",
       "    var docs_json = {\"a5ce7719-8781-4f7b-9def-080e059e8318\":{\"defs\":[{\"extends\":null,\"module\":null,\"name\":\"ReactiveHTML1\",\"overrides\":[],\"properties\":[]},{\"extends\":null,\"module\":null,\"name\":\"FlexBox1\",\"overrides\":[],\"properties\":[{\"default\":\"flex-start\",\"kind\":null,\"name\":\"align_content\"},{\"default\":\"flex-start\",\"kind\":null,\"name\":\"align_items\"},{\"default\":\"row\",\"kind\":null,\"name\":\"flex_direction\"},{\"default\":\"wrap\",\"kind\":null,\"name\":\"flex_wrap\"},{\"default\":\"flex-start\",\"kind\":null,\"name\":\"justify_content\"}]},{\"extends\":null,\"module\":null,\"name\":\"GridStack1\",\"overrides\":[],\"properties\":[{\"default\":\"warn\",\"kind\":null,\"name\":\"mode\"},{\"default\":null,\"kind\":null,\"name\":\"ncols\"},{\"default\":null,\"kind\":null,\"name\":\"nrows\"},{\"default\":true,\"kind\":null,\"name\":\"allow_resize\"},{\"default\":true,\"kind\":null,\"name\":\"allow_drag\"},{\"default\":[],\"kind\":null,\"name\":\"state\"}]},{\"extends\":null,\"module\":null,\"name\":\"click1\",\"overrides\":[],\"properties\":[{\"default\":\"\",\"kind\":null,\"name\":\"terminal_output\"},{\"default\":\"\",\"kind\":null,\"name\":\"debug_name\"},{\"default\":0,\"kind\":null,\"name\":\"clears\"}]},{\"extends\":null,\"module\":null,\"name\":\"NotificationAreaBase1\",\"overrides\":[],\"properties\":[{\"default\":\"bottom-right\",\"kind\":null,\"name\":\"position\"},{\"default\":0,\"kind\":null,\"name\":\"_clear\"}]},{\"extends\":null,\"module\":null,\"name\":\"NotificationArea1\",\"overrides\":[],\"properties\":[{\"default\":[],\"kind\":null,\"name\":\"notifications\"},{\"default\":\"bottom-right\",\"kind\":null,\"name\":\"position\"},{\"default\":0,\"kind\":null,\"name\":\"_clear\"},{\"default\":[{\"background\":\"#ffc107\",\"icon\":{\"className\":\"fas fa-exclamation-triangle\",\"color\":\"white\",\"tagName\":\"i\"},\"type\":\"warning\"},{\"background\":\"#007bff\",\"icon\":{\"className\":\"fas fa-info-circle\",\"color\":\"white\",\"tagName\":\"i\"},\"type\":\"info\"}],\"kind\":null,\"name\":\"types\"}]},{\"extends\":null,\"module\":null,\"name\":\"Notification\",\"overrides\":[],\"properties\":[{\"default\":null,\"kind\":null,\"name\":\"background\"},{\"default\":3000,\"kind\":null,\"name\":\"duration\"},{\"default\":null,\"kind\":null,\"name\":\"icon\"},{\"default\":\"\",\"kind\":null,\"name\":\"message\"},{\"default\":null,\"kind\":null,\"name\":\"notification_type\"},{\"default\":false,\"kind\":null,\"name\":\"_destroyed\"}]},{\"extends\":null,\"module\":null,\"name\":\"TemplateActions1\",\"overrides\":[],\"properties\":[{\"default\":0,\"kind\":null,\"name\":\"open_modal\"},{\"default\":0,\"kind\":null,\"name\":\"close_modal\"}]},{\"extends\":null,\"module\":null,\"name\":\"MaterialTemplateActions1\",\"overrides\":[],\"properties\":[{\"default\":0,\"kind\":null,\"name\":\"open_modal\"},{\"default\":0,\"kind\":null,\"name\":\"close_modal\"}]}],\"roots\":{\"references\":[{\"attributes\":{\"margin\":[5,5,5,5],\"name\":\"HSpacer01888\",\"sizing_mode\":\"stretch_width\"},\"id\":\"1215\",\"type\":\"Spacer\"},{\"attributes\":{\"end\":2021,\"margin\":[5,10,5,10],\"start\":1960,\"title\":\"Year\",\"value\":2000},\"id\":\"1214\",\"type\":\"Slider\"},{\"attributes\":{\"children\":[{\"id\":\"1211\"}],\"margin\":[0,0,0,0],\"name\":\"Row01891\"},\"id\":\"1210\",\"type\":\"Row\"},{\"attributes\":{\"margin\":[5,5,5,5],\"name\":\"DataFrame01886\",\"text\":\"&lt;table border=&quot;0&quot; class=&quot;dataframe panel-df&quot;&gt;\\n  &lt;thead&gt;\\n    &lt;tr style=&quot;text-align: right;&quot;&gt;\\n      &lt;th&gt;&lt;/th&gt;\\n      &lt;th&gt;Country Name&lt;/th&gt;\\n      &lt;th&gt;Year&lt;/th&gt;\\n      &lt;th&gt;Population&lt;/th&gt;\\n    &lt;/tr&gt;\\n  &lt;/thead&gt;\\n  &lt;tbody&gt;\\n    &lt;tr&gt;\\n      &lt;th&gt;0&lt;/th&gt;\\n      &lt;td&gt;China&lt;/td&gt;\\n      &lt;td&gt;2000&lt;/td&gt;\\n      &lt;td&gt;1.262645e+09&lt;/td&gt;\\n    &lt;/tr&gt;\\n    &lt;tr&gt;\\n      &lt;th&gt;1&lt;/th&gt;\\n      &lt;td&gt;India&lt;/td&gt;\\n      &lt;td&gt;2000&lt;/td&gt;\\n      &lt;td&gt;1.056576e+09&lt;/td&gt;\\n    &lt;/tr&gt;\\n    &lt;tr&gt;\\n      &lt;th&gt;2&lt;/th&gt;\\n      &lt;td&gt;United States&lt;/td&gt;\\n      &lt;td&gt;2000&lt;/td&gt;\\n      &lt;td&gt;2.821624e+08&lt;/td&gt;\\n    &lt;/tr&gt;\\n    &lt;tr&gt;\\n      &lt;th&gt;3&lt;/th&gt;\\n      &lt;td&gt;Indonesia&lt;/td&gt;\\n      &lt;td&gt;2000&lt;/td&gt;\\n      &lt;td&gt;2.115138e+08&lt;/td&gt;\\n    &lt;/tr&gt;\\n    &lt;tr&gt;\\n      &lt;th&gt;4&lt;/th&gt;\\n      &lt;td&gt;Brazil&lt;/td&gt;\\n      &lt;td&gt;2000&lt;/td&gt;\\n      &lt;td&gt;1.747903e+08&lt;/td&gt;\\n    &lt;/tr&gt;\\n    &lt;tr&gt;\\n      &lt;th&gt;5&lt;/th&gt;\\n      &lt;td&gt;Russian Federation&lt;/td&gt;\\n      &lt;td&gt;2000&lt;/td&gt;\\n      &lt;td&gt;1.465969e+08&lt;/td&gt;\\n    &lt;/tr&gt;\\n    &lt;tr&gt;\\n      &lt;th&gt;6&lt;/th&gt;\\n      &lt;td&gt;Pakistan&lt;/td&gt;\\n      &lt;td&gt;2000&lt;/td&gt;\\n      &lt;td&gt;1.423436e+08&lt;/td&gt;\\n    &lt;/tr&gt;\\n    &lt;tr&gt;\\n      &lt;th&gt;7&lt;/th&gt;\\n      &lt;td&gt;Bangladesh&lt;/td&gt;\\n      &lt;td&gt;2000&lt;/td&gt;\\n      &lt;td&gt;1.276579e+08&lt;/td&gt;\\n    &lt;/tr&gt;\\n    &lt;tr&gt;\\n      &lt;th&gt;8&lt;/th&gt;\\n      &lt;td&gt;Japan&lt;/td&gt;\\n      &lt;td&gt;2000&lt;/td&gt;\\n      &lt;td&gt;1.268430e+08&lt;/td&gt;\\n    &lt;/tr&gt;\\n    &lt;tr&gt;\\n      &lt;th&gt;9&lt;/th&gt;\\n      &lt;td&gt;Nigeria&lt;/td&gt;\\n      &lt;td&gt;2000&lt;/td&gt;\\n      &lt;td&gt;1.222839e+08&lt;/td&gt;\\n    &lt;/tr&gt;\\n  &lt;/tbody&gt;\\n&lt;/table&gt;\"},\"id\":\"1217\",\"type\":\"panel.models.markup.HTML\"},{\"attributes\":{\"children\":[{\"id\":\"1217\"}],\"margin\":[0,0,0,0],\"name\":\"Row01872\"},\"id\":\"1216\",\"type\":\"Row\"},{\"attributes\":{\"children\":[{\"id\":\"1212\"},{\"id\":\"1216\"}],\"margin\":[0,0,0,0],\"name\":\"Column01890\"},\"id\":\"1211\",\"type\":\"Column\"},{\"attributes\":{\"children\":[{\"id\":\"1214\"}],\"margin\":[0,0,0,0],\"name\":\"Column01867\"},\"id\":\"1213\",\"type\":\"Column\"},{\"attributes\":{\"client_comm_id\":\"be294f6c8b4e47c790cb651ade0d19a2\",\"comm_id\":\"52446cf8dfaa4d179b80287590d76fb7\",\"plot_id\":\"1210\"},\"id\":\"1218\",\"type\":\"panel.models.comm_manager.CommManager\"},{\"attributes\":{\"children\":[{\"id\":\"1213\"},{\"id\":\"1215\"}],\"margin\":[0,0,0,0],\"name\":\"Row01889\"},\"id\":\"1212\",\"type\":\"Row\"}],\"root_ids\":[\"1210\",\"1218\"]},\"title\":\"Bokeh Application\",\"version\":\"2.4.3\"}};\n",
       "    var render_items = [{\"docid\":\"a5ce7719-8781-4f7b-9def-080e059e8318\",\"root_ids\":[\"1210\"],\"roots\":{\"1210\":\"8b2d586e-5b8a-42c0-aa35-682b4c121bf9\"}}];\n",
       "    root.Bokeh.embed.embed_items_notebook(docs_json, render_items);\n",
       "  }\n",
       "  if (root.Bokeh !== undefined && root.Bokeh.Panel !== undefined && ( root['Tabulator'] !== undefined)) {\n",
       "    embed_document(root);\n",
       "  } else {\n",
       "    var attempts = 0;\n",
       "    var timer = setInterval(function(root) {\n",
       "      if (root.Bokeh !== undefined && root.Bokeh.Panel !== undefined && (root['Tabulator'] !== undefined)) {\n",
       "        clearInterval(timer);\n",
       "        embed_document(root);\n",
       "      } else if (document.readyState == \"complete\") {\n",
       "        attempts++;\n",
       "        if (attempts > 200) {\n",
       "          clearInterval(timer);\n",
       "          console.log(\"Bokeh: ERROR: Unable to run BokehJS code because BokehJS library is missing\");\n",
       "        }\n",
       "      }\n",
       "    }, 25, root)\n",
       "  }\n",
       "})(window);</script>"
      ],
      "text/plain": [
       "<hvplot.interactive.Interactive at 0x282d1130a08>"
      ]
     },
     "execution_count": 12,
     "metadata": {
      "application/vnd.holoviews_exec.v0+json": {
       "id": "1210"
      }
     },
     "output_type": "execute_result"
    }
   ],
   "source": [
    "top10_pipeline = (\n",
    "    idf[\n",
    "        (idf['Year'] == (year_slider))\n",
    "    ]\n",
    "    .groupby(['Country Name', 'Year'])['Population'].mean()\n",
    "    .to_frame()\n",
    "    .reset_index()\n",
    "    .sort_values(by='Population',ascending=False)  \n",
    "    .reset_index(drop=True)\n",
    ")\n",
    "\n",
    "top10_pipeline = top10_pipeline.head(10)\n",
    "top10_pipeline"
   ]
  },
  {
   "cell_type": "markdown",
   "id": "5ac12e3d-861c-4ba2-a0f1-226c11d3b62b",
   "metadata": {},
   "source": [
    "We then turn the pipeline into a table and a bar chart."
   ]
  },
  {
   "cell_type": "code",
   "execution_count": 13,
   "id": "378372d7-3763-4f6b-b28d-3b2e75b45cf2",
   "metadata": {},
   "outputs": [
    {
     "data": {},
     "metadata": {},
     "output_type": "display_data"
    },
    {
     "data": {
      "application/vnd.holoviews_exec.v0+json": "",
      "text/html": [
       "<div id='1219'>\n",
       "  <div class=\"bk-root\" id=\"321d13d4-60fd-4dbd-be90-8ebe4b30ed75\" data-root-id=\"1219\"></div>\n",
       "</div>\n",
       "<script type=\"application/javascript\">(function(root) {\n",
       "  function embed_document(root) {\n",
       "    var docs_json = {\"9c31a75b-f693-45b0-b135-608dfd8dcff9\":{\"defs\":[{\"extends\":null,\"module\":null,\"name\":\"ReactiveHTML1\",\"overrides\":[],\"properties\":[]},{\"extends\":null,\"module\":null,\"name\":\"FlexBox1\",\"overrides\":[],\"properties\":[{\"default\":\"flex-start\",\"kind\":null,\"name\":\"align_content\"},{\"default\":\"flex-start\",\"kind\":null,\"name\":\"align_items\"},{\"default\":\"row\",\"kind\":null,\"name\":\"flex_direction\"},{\"default\":\"wrap\",\"kind\":null,\"name\":\"flex_wrap\"},{\"default\":\"flex-start\",\"kind\":null,\"name\":\"justify_content\"}]},{\"extends\":null,\"module\":null,\"name\":\"GridStack1\",\"overrides\":[],\"properties\":[{\"default\":\"warn\",\"kind\":null,\"name\":\"mode\"},{\"default\":null,\"kind\":null,\"name\":\"ncols\"},{\"default\":null,\"kind\":null,\"name\":\"nrows\"},{\"default\":true,\"kind\":null,\"name\":\"allow_resize\"},{\"default\":true,\"kind\":null,\"name\":\"allow_drag\"},{\"default\":[],\"kind\":null,\"name\":\"state\"}]},{\"extends\":null,\"module\":null,\"name\":\"click1\",\"overrides\":[],\"properties\":[{\"default\":\"\",\"kind\":null,\"name\":\"terminal_output\"},{\"default\":\"\",\"kind\":null,\"name\":\"debug_name\"},{\"default\":0,\"kind\":null,\"name\":\"clears\"}]},{\"extends\":null,\"module\":null,\"name\":\"NotificationAreaBase1\",\"overrides\":[],\"properties\":[{\"default\":\"bottom-right\",\"kind\":null,\"name\":\"position\"},{\"default\":0,\"kind\":null,\"name\":\"_clear\"}]},{\"extends\":null,\"module\":null,\"name\":\"NotificationArea1\",\"overrides\":[],\"properties\":[{\"default\":[],\"kind\":null,\"name\":\"notifications\"},{\"default\":\"bottom-right\",\"kind\":null,\"name\":\"position\"},{\"default\":0,\"kind\":null,\"name\":\"_clear\"},{\"default\":[{\"background\":\"#ffc107\",\"icon\":{\"className\":\"fas fa-exclamation-triangle\",\"color\":\"white\",\"tagName\":\"i\"},\"type\":\"warning\"},{\"background\":\"#007bff\",\"icon\":{\"className\":\"fas fa-info-circle\",\"color\":\"white\",\"tagName\":\"i\"},\"type\":\"info\"}],\"kind\":null,\"name\":\"types\"}]},{\"extends\":null,\"module\":null,\"name\":\"Notification\",\"overrides\":[],\"properties\":[{\"default\":null,\"kind\":null,\"name\":\"background\"},{\"default\":3000,\"kind\":null,\"name\":\"duration\"},{\"default\":null,\"kind\":null,\"name\":\"icon\"},{\"default\":\"\",\"kind\":null,\"name\":\"message\"},{\"default\":null,\"kind\":null,\"name\":\"notification_type\"},{\"default\":false,\"kind\":null,\"name\":\"_destroyed\"}]},{\"extends\":null,\"module\":null,\"name\":\"TemplateActions1\",\"overrides\":[],\"properties\":[{\"default\":0,\"kind\":null,\"name\":\"open_modal\"},{\"default\":0,\"kind\":null,\"name\":\"close_modal\"}]},{\"extends\":null,\"module\":null,\"name\":\"MaterialTemplateActions1\",\"overrides\":[],\"properties\":[{\"default\":0,\"kind\":null,\"name\":\"open_modal\"},{\"default\":0,\"kind\":null,\"name\":\"close_modal\"}]}],\"roots\":{\"references\":[{\"attributes\":{\"editor\":{\"id\":\"1245\"},\"field\":\"Population\",\"formatter\":{\"id\":\"1244\"},\"title\":\"Population\",\"width\":0},\"id\":\"1246\",\"type\":\"TableColumn\"},{\"attributes\":{\"text_align\":\"left\"},\"id\":\"1228\",\"type\":\"NumberFormatter\"},{\"attributes\":{\"children\":[{\"id\":\"1222\"},{\"id\":\"1224\"}],\"margin\":[0,0,0,0],\"name\":\"Row01955\"},\"id\":\"1221\",\"type\":\"Row\"},{\"attributes\":{},\"id\":\"1245\",\"type\":\"NumberEditor\"},{\"attributes\":{\"editor\":{\"id\":\"1230\"},\"field\":\"index\",\"formatter\":{\"id\":\"1228\"},\"title\":\"index\",\"width\":0},\"id\":\"1231\",\"type\":\"TableColumn\"},{\"attributes\":{\"format\":\"0,0.0[00000]\",\"text_align\":\"right\"},\"id\":\"1244\",\"type\":\"NumberFormatter\"},{\"attributes\":{\"children\":[{\"id\":\"1249\"}],\"margin\":[0,0,0,0],\"name\":\"Row01939\"},\"id\":\"1225\",\"type\":\"Row\"},{\"attributes\":{},\"id\":\"1240\",\"type\":\"IntEditor\"},{\"attributes\":{},\"id\":\"1230\",\"type\":\"CellEditor\"},{\"attributes\":{\"children\":[{\"id\":\"1223\"}],\"margin\":[0,0,0,0],\"name\":\"Column01934\"},\"id\":\"1222\",\"type\":\"Column\"},{\"attributes\":{\"editor\":{\"id\":\"1240\"},\"field\":\"Year\",\"formatter\":{\"id\":\"1239\"},\"title\":\"Year\",\"width\":0},\"id\":\"1241\",\"type\":\"TableColumn\"},{\"attributes\":{\"client_comm_id\":\"01861bccd04a49feb8b6a73e494fbd16\",\"comm_id\":\"f811153abd01452f9925087c12a653bf\",\"plot_id\":\"1219\"},\"id\":\"1257\",\"type\":\"panel.models.comm_manager.CommManager\"},{\"attributes\":{\"data\":{\"Country Name\":[\"China\",\"India\",\"United States\",\"Indonesia\",\"Brazil\",\"Russian Federation\",\"Pakistan\",\"Bangladesh\",\"Japan\",\"Nigeria\"],\"Population\":{\"__ndarray__\":\"AAAAwpvQ0kEAAAAeCH3PQQAAAOt00bBBAAAAvOM2qUEAAACGLdakQQAAAArIeaFBAAAAPvv3oEEAAAAYnm+eQQAAAODhPZ5BAAAANJ0nnUE=\",\"dtype\":\"float64\",\"order\":\"little\",\"shape\":[10]},\"Year\":[2000,2000,2000,2000,2000,2000,2000,2000,2000,2000],\"index\":[0,1,2,3,4,5,6,7,8,9]},\"selected\":{\"id\":\"1227\"},\"selection_policy\":{\"id\":\"1251\"}},\"id\":\"1226\",\"type\":\"ColumnDataSource\"},{\"attributes\":{\"text_align\":\"right\"},\"id\":\"1239\",\"type\":\"NumberFormatter\"},{\"attributes\":{\"end\":2021,\"margin\":[5,10,5,10],\"start\":1960,\"title\":\"Year\",\"value\":2000},\"id\":\"1223\",\"type\":\"Slider\"},{\"attributes\":{\"margin\":[5,5,5,5],\"name\":\"HSpacer01954\",\"sizing_mode\":\"stretch_width\"},\"id\":\"1224\",\"type\":\"Spacer\"},{\"attributes\":{\"children\":[{\"id\":\"1220\"}],\"margin\":[0,0,0,0],\"name\":\"Row01957\"},\"id\":\"1219\",\"type\":\"Row\"},{\"attributes\":{\"columns\":[{\"id\":\"1231\"},{\"id\":\"1236\"},{\"id\":\"1241\"},{\"id\":\"1246\"}],\"configuration\":{\"columns\":[{\"field\":\"index\"},{\"field\":\"Country Name\"},{\"field\":\"Year\"},{\"field\":\"Population\"}],\"dataTree\":false,\"selectable\":true},\"indexes\":[\"index\"],\"layout\":\"fit_data_table\",\"margin\":[5,10,5,10],\"max_page\":1,\"name\":\"\",\"page\":1,\"page_size\":10,\"pagination\":\"remote\",\"select_mode\":true,\"selectable_rows\":null,\"source\":{\"id\":\"1226\"},\"styles\":{\"data\":{},\"id\":\"320d092415e64b5299852e05caf5796b\"},\"subscribed_events\":[\"table-edit\",\"cell-click\"]},\"id\":\"1249\",\"type\":\"panel.models.tabulator.DataTabulator\"},{\"attributes\":{\"editor\":{\"id\":\"1235\"},\"field\":\"Country Name\",\"formatter\":{\"id\":\"1234\"},\"title\":\"Country Name\",\"width\":0},\"id\":\"1236\",\"type\":\"TableColumn\"},{\"attributes\":{\"children\":[{\"id\":\"1221\"},{\"id\":\"1225\"}],\"margin\":[0,0,0,0],\"name\":\"Column01956\"},\"id\":\"1220\",\"type\":\"Column\"},{\"attributes\":{},\"id\":\"1235\",\"type\":\"StringEditor\"},{\"attributes\":{},\"id\":\"1251\",\"type\":\"UnionRenderers\"},{\"attributes\":{\"indices\":[]},\"id\":\"1227\",\"type\":\"Selection\"},{\"attributes\":{},\"id\":\"1234\",\"type\":\"StringFormatter\"}],\"root_ids\":[\"1219\",\"1257\"]},\"title\":\"Bokeh Application\",\"version\":\"2.4.3\"}};\n",
       "    var render_items = [{\"docid\":\"9c31a75b-f693-45b0-b135-608dfd8dcff9\",\"root_ids\":[\"1219\"],\"roots\":{\"1219\":\"321d13d4-60fd-4dbd-be90-8ebe4b30ed75\"}}];\n",
       "    root.Bokeh.embed.embed_items_notebook(docs_json, render_items);\n",
       "  }\n",
       "  if (root.Bokeh !== undefined && root.Bokeh.Panel !== undefined && ( root['Tabulator'] !== undefined)) {\n",
       "    embed_document(root);\n",
       "  } else {\n",
       "    var attempts = 0;\n",
       "    var timer = setInterval(function(root) {\n",
       "      if (root.Bokeh !== undefined && root.Bokeh.Panel !== undefined && (root['Tabulator'] !== undefined)) {\n",
       "        clearInterval(timer);\n",
       "        embed_document(root);\n",
       "      } else if (document.readyState == \"complete\") {\n",
       "        attempts++;\n",
       "        if (attempts > 200) {\n",
       "          clearInterval(timer);\n",
       "          console.log(\"Bokeh: ERROR: Unable to run BokehJS code because BokehJS library is missing\");\n",
       "        }\n",
       "      }\n",
       "    }, 25, root)\n",
       "  }\n",
       "})(window);</script>"
      ],
      "text/plain": [
       "<hvplot.interactive.Interactive at 0x282d0f3ad88>"
      ]
     },
     "execution_count": 13,
     "metadata": {
      "application/vnd.holoviews_exec.v0+json": {
       "id": "1219"
      }
     },
     "output_type": "execute_result"
    }
   ],
   "source": [
    "top10_itable = top10_pipeline.pipe(pn.widgets.Tabulator, pagination='remote', page_size=10)\n",
    "top10_itable"
   ]
  },
  {
   "cell_type": "code",
   "execution_count": 14,
   "id": "a25a925c",
   "metadata": {},
   "outputs": [
    {
     "data": {},
     "metadata": {},
     "output_type": "display_data"
    },
    {
     "data": {},
     "metadata": {},
     "output_type": "display_data"
    },
    {
     "data": {
      "application/vnd.holoviews_exec.v0+json": "",
      "text/html": [
       "<div id='1268'>\n",
       "  <div class=\"bk-root\" id=\"64d08167-938d-4272-987e-d82a0f62a48b\" data-root-id=\"1268\"></div>\n",
       "</div>\n",
       "<script type=\"application/javascript\">(function(root) {\n",
       "  function embed_document(root) {\n",
       "    var docs_json = {\"81fcce1b-c678-461b-82e0-5772ee653892\":{\"defs\":[{\"extends\":null,\"module\":null,\"name\":\"ReactiveHTML1\",\"overrides\":[],\"properties\":[]},{\"extends\":null,\"module\":null,\"name\":\"FlexBox1\",\"overrides\":[],\"properties\":[{\"default\":\"flex-start\",\"kind\":null,\"name\":\"align_content\"},{\"default\":\"flex-start\",\"kind\":null,\"name\":\"align_items\"},{\"default\":\"row\",\"kind\":null,\"name\":\"flex_direction\"},{\"default\":\"wrap\",\"kind\":null,\"name\":\"flex_wrap\"},{\"default\":\"flex-start\",\"kind\":null,\"name\":\"justify_content\"}]},{\"extends\":null,\"module\":null,\"name\":\"GridStack1\",\"overrides\":[],\"properties\":[{\"default\":\"warn\",\"kind\":null,\"name\":\"mode\"},{\"default\":null,\"kind\":null,\"name\":\"ncols\"},{\"default\":null,\"kind\":null,\"name\":\"nrows\"},{\"default\":true,\"kind\":null,\"name\":\"allow_resize\"},{\"default\":true,\"kind\":null,\"name\":\"allow_drag\"},{\"default\":[],\"kind\":null,\"name\":\"state\"}]},{\"extends\":null,\"module\":null,\"name\":\"click1\",\"overrides\":[],\"properties\":[{\"default\":\"\",\"kind\":null,\"name\":\"terminal_output\"},{\"default\":\"\",\"kind\":null,\"name\":\"debug_name\"},{\"default\":0,\"kind\":null,\"name\":\"clears\"}]},{\"extends\":null,\"module\":null,\"name\":\"NotificationAreaBase1\",\"overrides\":[],\"properties\":[{\"default\":\"bottom-right\",\"kind\":null,\"name\":\"position\"},{\"default\":0,\"kind\":null,\"name\":\"_clear\"}]},{\"extends\":null,\"module\":null,\"name\":\"NotificationArea1\",\"overrides\":[],\"properties\":[{\"default\":[],\"kind\":null,\"name\":\"notifications\"},{\"default\":\"bottom-right\",\"kind\":null,\"name\":\"position\"},{\"default\":0,\"kind\":null,\"name\":\"_clear\"},{\"default\":[{\"background\":\"#ffc107\",\"icon\":{\"className\":\"fas fa-exclamation-triangle\",\"color\":\"white\",\"tagName\":\"i\"},\"type\":\"warning\"},{\"background\":\"#007bff\",\"icon\":{\"className\":\"fas fa-info-circle\",\"color\":\"white\",\"tagName\":\"i\"},\"type\":\"info\"}],\"kind\":null,\"name\":\"types\"}]},{\"extends\":null,\"module\":null,\"name\":\"Notification\",\"overrides\":[],\"properties\":[{\"default\":null,\"kind\":null,\"name\":\"background\"},{\"default\":3000,\"kind\":null,\"name\":\"duration\"},{\"default\":null,\"kind\":null,\"name\":\"icon\"},{\"default\":\"\",\"kind\":null,\"name\":\"message\"},{\"default\":null,\"kind\":null,\"name\":\"notification_type\"},{\"default\":false,\"kind\":null,\"name\":\"_destroyed\"}]},{\"extends\":null,\"module\":null,\"name\":\"TemplateActions1\",\"overrides\":[],\"properties\":[{\"default\":0,\"kind\":null,\"name\":\"open_modal\"},{\"default\":0,\"kind\":null,\"name\":\"close_modal\"}]},{\"extends\":null,\"module\":null,\"name\":\"MaterialTemplateActions1\",\"overrides\":[],\"properties\":[{\"default\":0,\"kind\":null,\"name\":\"open_modal\"},{\"default\":0,\"kind\":null,\"name\":\"close_modal\"}]}],\"roots\":{\"references\":[{\"attributes\":{},\"id\":\"1285\",\"type\":\"LinearScale\"},{\"attributes\":{\"client_comm_id\":\"36e597425a1045209b3c75aae74ac2a5\",\"comm_id\":\"14f5cd72cf5146158001f377c2b1c076\",\"plot_id\":\"1268\"},\"id\":\"1362\",\"type\":\"panel.models.comm_manager.CommManager\"},{\"attributes\":{\"tools\":[{\"id\":\"1277\"},{\"id\":\"1294\"},{\"id\":\"1295\"},{\"id\":\"1296\"},{\"id\":\"1297\"},{\"id\":\"1298\"}]},\"id\":\"1300\",\"type\":\"Toolbar\"},{\"attributes\":{\"bottom_units\":\"screen\",\"coordinates\":null,\"fill_alpha\":0.5,\"fill_color\":\"lightgrey\",\"group\":null,\"left_units\":\"screen\",\"level\":\"overlay\",\"line_alpha\":1.0,\"line_color\":\"black\",\"line_dash\":[4,4],\"line_width\":2,\"right_units\":\"screen\",\"syncable\":false,\"top_units\":\"screen\"},\"id\":\"1299\",\"type\":\"BoxAnnotation\"},{\"attributes\":{\"end\":1376681114.7,\"reset_end\":1376681114.7,\"reset_start\":0.0,\"tags\":[[[\"Population\",\"Population\",null]]]},\"id\":\"1276\",\"type\":\"Range1d\"},{\"attributes\":{\"fill_alpha\":{\"value\":0.1},\"fill_color\":{\"value\":\"#30a2da\"},\"hatch_alpha\":{\"value\":0.1},\"hatch_color\":{\"value\":\"#30a2da\"},\"line_alpha\":{\"value\":0.1},\"top\":{\"field\":\"Population\"},\"width\":{\"value\":0.8},\"x\":{\"field\":\"Country_Name\"}},\"id\":\"1311\",\"type\":\"VBar\"},{\"attributes\":{},\"id\":\"1291\",\"type\":\"BasicTicker\"},{\"attributes\":{},\"id\":\"1288\",\"type\":\"CategoricalTicker\"},{\"attributes\":{\"factors\":[\"China\",\"India\",\"United States\",\"Indonesia\",\"Brazil\",\"Russian Federation\",\"Pakistan\",\"Bangladesh\",\"Japan\",\"Nigeria\"],\"tags\":[[[\"Country Name\",\"Country Name\",null]]]},\"id\":\"1275\",\"type\":\"FactorRange\"},{\"attributes\":{\"axis_label\":\"Population\",\"coordinates\":null,\"formatter\":{\"id\":\"1320\"},\"group\":null,\"major_label_policy\":{\"id\":\"1321\"},\"ticker\":{\"id\":\"1291\"}},\"id\":\"1290\",\"type\":\"LinearAxis\"},{\"attributes\":{\"margin\":[5,5,5,5],\"name\":\"HSpacer02172\",\"sizing_mode\":\"stretch_width\"},\"id\":\"1273\",\"type\":\"Spacer\"},{\"attributes\":{\"axis\":{\"id\":\"1290\"},\"coordinates\":null,\"dimension\":1,\"grid_line_color\":null,\"group\":null,\"ticker\":null},\"id\":\"1293\",\"type\":\"Grid\"},{\"attributes\":{\"fill_alpha\":{\"value\":0.2},\"fill_color\":{\"value\":\"#30a2da\"},\"hatch_alpha\":{\"value\":0.2},\"hatch_color\":{\"value\":\"#30a2da\"},\"line_alpha\":{\"value\":0.2},\"top\":{\"field\":\"Population\"},\"width\":{\"value\":0.8},\"x\":{\"field\":\"Country_Name\"}},\"id\":\"1312\",\"type\":\"VBar\"},{\"attributes\":{\"callback\":null,\"renderers\":[{\"id\":\"1313\"}],\"tags\":[\"hv_created\"],\"tooltips\":[[\"Country Name\",\"@{Country_Name}\"],[\"Population\",\"@{Population}\"]]},\"id\":\"1277\",\"type\":\"HoverTool\"},{\"attributes\":{\"source\":{\"id\":\"1307\"}},\"id\":\"1314\",\"type\":\"CDSView\"},{\"attributes\":{},\"id\":\"1317\",\"type\":\"CategoricalTickFormatter\"},{\"attributes\":{\"below\":[{\"id\":\"1287\"}],\"center\":[{\"id\":\"1289\"},{\"id\":\"1293\"}],\"height\":300,\"left\":[{\"id\":\"1290\"}],\"margin\":[5,5,5,5],\"min_border_bottom\":10,\"min_border_left\":10,\"min_border_right\":10,\"min_border_top\":10,\"renderers\":[{\"id\":\"1313\"}],\"sizing_mode\":\"fixed\",\"title\":{\"id\":\"1279\"},\"toolbar\":{\"id\":\"1300\"},\"width\":700,\"x_range\":{\"id\":\"1275\"},\"x_scale\":{\"id\":\"1283\"},\"y_range\":{\"id\":\"1276\"},\"y_scale\":{\"id\":\"1285\"}},\"id\":\"1278\",\"subtype\":\"Figure\",\"type\":\"Plot\"},{\"attributes\":{\"children\":[{\"id\":\"1269\"}],\"margin\":[0,0,0,0],\"name\":\"Row02175\"},\"id\":\"1268\",\"type\":\"Row\"},{\"attributes\":{\"children\":[{\"id\":\"1270\"},{\"id\":\"1274\"}],\"margin\":[0,0,0,0],\"name\":\"Column02174\"},\"id\":\"1269\",\"type\":\"Column\"},{\"attributes\":{},\"id\":\"1320\",\"type\":\"BasicTickFormatter\"},{\"attributes\":{\"coordinates\":null,\"data_source\":{\"id\":\"1307\"},\"glyph\":{\"id\":\"1310\"},\"group\":null,\"hover_glyph\":null,\"muted_glyph\":{\"id\":\"1312\"},\"nonselection_glyph\":{\"id\":\"1311\"},\"selection_glyph\":{\"id\":\"1315\"},\"view\":{\"id\":\"1314\"}},\"id\":\"1313\",\"type\":\"GlyphRenderer\"},{\"attributes\":{\"bottom\":{\"value\":0},\"fill_alpha\":{\"value\":1.0},\"fill_color\":{\"value\":\"#30a2da\"},\"hatch_alpha\":{\"value\":1.0},\"hatch_color\":{\"value\":\"#30a2da\"},\"hatch_scale\":{\"value\":12.0},\"hatch_weight\":{\"value\":1.0},\"line_alpha\":{\"value\":1.0},\"line_cap\":{\"value\":\"butt\"},\"line_color\":{\"value\":\"black\"},\"line_dash\":{\"value\":[]},\"line_dash_offset\":{\"value\":0},\"line_join\":{\"value\":\"bevel\"},\"line_width\":{\"value\":1},\"top\":{\"field\":\"Population\"},\"width\":{\"value\":0.8},\"x\":{\"field\":\"Country_Name\"}},\"id\":\"1315\",\"type\":\"VBar\"},{\"attributes\":{},\"id\":\"1294\",\"type\":\"SaveTool\"},{\"attributes\":{\"children\":[{\"id\":\"1271\"},{\"id\":\"1273\"}],\"margin\":[0,0,0,0],\"name\":\"Row02173\"},\"id\":\"1270\",\"type\":\"Row\"},{\"attributes\":{\"children\":[{\"id\":\"1278\"}],\"margin\":[0,0,0,0],\"name\":\"Row02072\"},\"id\":\"1274\",\"type\":\"Row\"},{\"attributes\":{},\"id\":\"1295\",\"type\":\"PanTool\"},{\"attributes\":{},\"id\":\"1298\",\"type\":\"ResetTool\"},{\"attributes\":{},\"id\":\"1296\",\"type\":\"WheelZoomTool\"},{\"attributes\":{},\"id\":\"1321\",\"type\":\"AllLabels\"},{\"attributes\":{},\"id\":\"1308\",\"type\":\"Selection\"},{\"attributes\":{\"children\":[{\"id\":\"1272\"}],\"margin\":[0,0,0,0],\"name\":\"Column02067\"},\"id\":\"1271\",\"type\":\"Column\"},{\"attributes\":{\"overlay\":{\"id\":\"1299\"}},\"id\":\"1297\",\"type\":\"BoxZoomTool\"},{\"attributes\":{},\"id\":\"1318\",\"type\":\"AllLabels\"},{\"attributes\":{\"fill_color\":{\"value\":\"#30a2da\"},\"hatch_color\":{\"value\":\"#30a2da\"},\"top\":{\"field\":\"Population\"},\"width\":{\"value\":0.8},\"x\":{\"field\":\"Country_Name\"}},\"id\":\"1310\",\"type\":\"VBar\"},{\"attributes\":{},\"id\":\"1329\",\"type\":\"UnionRenderers\"},{\"attributes\":{\"end\":2021,\"margin\":[5,10,5,10],\"start\":1960,\"title\":\"Year\",\"value\":2000},\"id\":\"1272\",\"type\":\"Slider\"},{\"attributes\":{\"data\":{\"Country_Name\":[\"China\",\"India\",\"United States\",\"Indonesia\",\"Brazil\",\"Russian Federation\",\"Pakistan\",\"Bangladesh\",\"Japan\",\"Nigeria\"],\"Population\":{\"__ndarray__\":\"AAAAwpvQ0kEAAAAeCH3PQQAAAOt00bBBAAAAvOM2qUEAAACGLdakQQAAAArIeaFBAAAAPvv3oEEAAAAYnm+eQQAAAODhPZ5BAAAANJ0nnUE=\",\"dtype\":\"float64\",\"order\":\"little\",\"shape\":[10]}},\"selected\":{\"id\":\"1308\"},\"selection_policy\":{\"id\":\"1329\"}},\"id\":\"1307\",\"type\":\"ColumnDataSource\"},{\"attributes\":{},\"id\":\"1283\",\"type\":\"CategoricalScale\"},{\"attributes\":{\"axis_label\":\"Country Name\",\"coordinates\":null,\"formatter\":{\"id\":\"1317\"},\"group\":null,\"major_label_policy\":{\"id\":\"1318\"},\"ticker\":{\"id\":\"1288\"}},\"id\":\"1287\",\"type\":\"CategoricalAxis\"},{\"attributes\":{\"axis\":{\"id\":\"1287\"},\"coordinates\":null,\"grid_line_color\":null,\"group\":null,\"ticker\":null},\"id\":\"1289\",\"type\":\"Grid\"},{\"attributes\":{\"coordinates\":null,\"group\":null,\"text\":\"Top 10 countries with highest population\",\"text_color\":\"black\",\"text_font_size\":\"12pt\"},\"id\":\"1279\",\"type\":\"Title\"}],\"root_ids\":[\"1268\",\"1362\"]},\"title\":\"Bokeh Application\",\"version\":\"2.4.3\"}};\n",
       "    var render_items = [{\"docid\":\"81fcce1b-c678-461b-82e0-5772ee653892\",\"root_ids\":[\"1268\"],\"roots\":{\"1268\":\"64d08167-938d-4272-987e-d82a0f62a48b\"}}];\n",
       "    root.Bokeh.embed.embed_items_notebook(docs_json, render_items);\n",
       "  }\n",
       "  if (root.Bokeh !== undefined && root.Bokeh.Panel !== undefined && ( root['Tabulator'] !== undefined)) {\n",
       "    embed_document(root);\n",
       "  } else {\n",
       "    var attempts = 0;\n",
       "    var timer = setInterval(function(root) {\n",
       "      if (root.Bokeh !== undefined && root.Bokeh.Panel !== undefined && (root['Tabulator'] !== undefined)) {\n",
       "        clearInterval(timer);\n",
       "        embed_document(root);\n",
       "      } else if (document.readyState == \"complete\") {\n",
       "        attempts++;\n",
       "        if (attempts > 200) {\n",
       "          clearInterval(timer);\n",
       "          console.log(\"Bokeh: ERROR: Unable to run BokehJS code because BokehJS library is missing\");\n",
       "        }\n",
       "      }\n",
       "    }, 25, root)\n",
       "  }\n",
       "})(window);</script>"
      ],
      "text/plain": [
       "<hvplot.interactive.Interactive at 0x282d1205188>"
      ]
     },
     "execution_count": 14,
     "metadata": {
      "application/vnd.holoviews_exec.v0+json": {
       "id": "1268"
      }
     },
     "output_type": "execute_result"
    }
   ],
   "source": [
    "top10_bar_plot = top10_pipeline.hvplot(kind='bar', x='Country Name',  y='Population', title='Top 10 countries with highest population ')\n",
    "top10_bar_plot"
   ]
  },
  {
   "cell_type": "markdown",
   "id": "38a12cd9-abe4-4b03-aa97-b3084e3168f2",
   "metadata": {},
   "source": [
    "# Layout using Template\n",
    "Finally, we create our template which allows us to decide how and where we want to display the widgets, tables and plots. template.show() will open a new page in notebook which has the interactive dash board. Alternatively, we can run template.servable(), and run \"serve dashboard.ipynb in terminal\"."
   ]
  },
  {
   "cell_type": "code",
   "execution_count": 15,
   "id": "6061d513-85c6-4939-bcff-e333fb861692",
   "metadata": {},
   "outputs": [
    {
     "name": "stdout",
     "output_type": "stream",
     "text": [
      "Launching server at http://localhost:60176\n"
     ]
    },
    {
     "data": {
      "text/plain": [
       "<bokeh.server.server.Server at 0x282d14c78c8>"
      ]
     },
     "execution_count": 15,
     "metadata": {},
     "output_type": "execute_result"
    }
   ],
   "source": [
    "template = pn.template.FastListTemplate(\n",
    "    title='World Population dashboard', \n",
    "    main=[pn.Row(pn.Column(country_select, iplot.panel(width=700,margin=(0,25))), itable.panel(width=700,margin=(0,25))),\n",
    "          pn.Row(pn.Column(top10_bar_plot.panel(width=1100,margin=(0,25)),year_slider))\n",
    "         ],\n",
    "    accent_base_color=\"#88d8b0\",\n",
    "    header_background=\"#88d8b0\",\n",
    ")\n",
    "\n",
    "template.show()\n",
    "#template.servable()\n",
    "#To serve the notebook run panel serve dashboard.ipynb."
   ]
  },
  {
   "cell_type": "code",
   "execution_count": null,
   "id": "f41d2638-acaa-4b66-8a8a-f8a7900d2a9e",
   "metadata": {},
   "outputs": [],
   "source": []
  }
 ],
 "metadata": {
  "kernelspec": {
   "display_name": "Python 3 (ipykernel)",
   "language": "python",
   "name": "python3"
  },
  "language_info": {
   "codemirror_mode": {
    "name": "ipython",
    "version": 3
   },
   "file_extension": ".py",
   "mimetype": "text/x-python",
   "name": "python",
   "nbconvert_exporter": "python",
   "pygments_lexer": "ipython3",
   "version": "3.7.4"
  }
 },
 "nbformat": 4,
 "nbformat_minor": 5
}
